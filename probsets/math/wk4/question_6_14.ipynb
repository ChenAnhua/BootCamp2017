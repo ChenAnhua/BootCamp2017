{
 "cells": [
  {
   "cell_type": "code",
   "execution_count": 1,
   "metadata": {
    "collapsed": false
   },
   "outputs": [
    {
     "name": "stdout",
     "output_type": "stream",
     "text": [
      "The algorithm converged\n",
      "after  47 iterations\n",
      "minimizer is:  -1.44731422363\n",
      "If I choose a different initial point...\n",
      "The algorithm converged\n",
      "after  2 iterations\n",
      "minimizer is:  0.871281083123\n"
     ]
    }
   ],
   "source": [
    "import numpy as np\n",
    "\n",
    "# newton method\n",
    "def d1_newton(f, f_p, f_p2, x0, tol, maxiter):\n",
    "    for k in range(maxiter):\n",
    "        x1 = x0 - f_p(x0)/f_p2(x0)\n",
    "        if abs(x1 -x0) < tol:\n",
    "            print(\"The algorithm converged\")\n",
    "            break\n",
    "        x0 = x1\n",
    "    if k == maxiter-1:\n",
    "        print(\"The algorithm didn't converge within given steps\")\n",
    "    else:\n",
    "        print(\"after \", k, \"iterations\")\n",
    "    return x1, k\n",
    "\n",
    "\n",
    "\n",
    "#testing\n",
    "f3 = lambda x: x**2 + np.sin(5*x)\n",
    "f3_p = lambda x: 2*x + 5*np.cos(5*x)\n",
    "f3_p2 = lambda x: 2 - 25*np.sin(5*x)\n",
    "x0 = 0\n",
    "tol = 1e-5\n",
    "maxiter = 100\n",
    "x3, k3 = d1_newton(f3, f3_p, f3_p2, x0, tol, maxiter)\n",
    "print(\"minimizer is: \", x3)\n",
    "print(\"If I choose a different initial point...\")\n",
    "x0_p = 1\n",
    "tol = 1e-5\n",
    "maxiter = 100\n",
    "x3_p, k3_p = d1_newton(f3, f3_p, f3_p2, x0_p, tol, maxiter)\n",
    "print(\"minimizer is: \", x3_p)"
   ]
  },
  {
   "cell_type": "code",
   "execution_count": null,
   "metadata": {
    "collapsed": true
   },
   "outputs": [],
   "source": []
  }
 ],
 "metadata": {
  "kernelspec": {
   "display_name": "Python 3",
   "language": "python",
   "name": "python3"
  },
  "language_info": {
   "codemirror_mode": {
    "name": "ipython",
    "version": 3
   },
   "file_extension": ".py",
   "mimetype": "text/x-python",
   "name": "python",
   "nbconvert_exporter": "python",
   "pygments_lexer": "ipython3",
   "version": "3.6.0"
  }
 },
 "nbformat": 4,
 "nbformat_minor": 2
}
