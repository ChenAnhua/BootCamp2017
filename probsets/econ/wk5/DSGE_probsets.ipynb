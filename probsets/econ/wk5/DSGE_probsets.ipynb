{
 "cells": [
  {
   "cell_type": "code",
   "execution_count": 79,
   "metadata": {
    "collapsed": true
   },
   "outputs": [],
   "source": [
    "import numpy as np\n",
    "from scipy.optimize import fminbound, fsolve, root"
   ]
  },
  {
   "cell_type": "code",
   "execution_count": 80,
   "metadata": {
    "collapsed": false
   },
   "outputs": [
    {
     "name": "stdout",
     "output_type": "stream",
     "text": [
      "Problem 5 Algebric result for k bar: 7.28749795069\n"
     ]
    }
   ],
   "source": [
    "#question 5\n",
    "# Solving algebrically\n",
    "gamma = 2.5\n",
    "beta = 0.98\n",
    "alpha = 0.40\n",
    "delta = 0.10\n",
    "z_bar = 0\n",
    "tau = 0.05\n",
    "xi  = 1.5\n",
    "a = 0.5\n",
    "k_bar_alg = (alpha**(1/(1 - alpha))*\n",
    "             (1/(1 - tau)*(1/beta - 1) + delta)**(1/(alpha - 1))*\n",
    "            np.exp(z_bar))\n",
    "print(\"Problem 5 Algebric result for k bar:\", k_bar_alg)"
   ]
  },
  {
   "cell_type": "code",
   "execution_count": 82,
   "metadata": {
    "collapsed": false
   },
   "outputs": [
    {
     "name": "stdout",
     "output_type": "stream",
     "text": [
      "Problem 5: \n",
      "\n",
      "Steady state capital:  [ 7.28749795]\n",
      "Steady state output:  [ 2.21325461]\n",
      "Steady state investment:  [ 0.7287498] \n",
      "\n",
      "Problem 6: \n",
      "\n",
      "Steady state capital:  4.22522902519\n",
      "Steady state labor:  0.579791453145\n",
      "Steady state output:  1.28322610861\n",
      "Steady state investment:  0.422522902519\n"
     ]
    }
   ],
   "source": [
    "# characterizing functions\n",
    "def r_func(k, l, alpha):\n",
    "    r = alpha*(k**(alpha - 1))*(l**(1 - alpha))\n",
    "    return r\n",
    "def w_func(k, l, alpha):\n",
    "    w = (1 - alpha)*(k**alpha)*(l**(-alpha))\n",
    "    return w\n",
    "    \n",
    "def T_func(k, l, w_func, r_func, alpha, delta, tau):\n",
    "    T = tau*(w_func(k, l, alpha)*l + (r_func(k, l, alpha) - delta)*k)\n",
    "    return T\n",
    "    \n",
    "def c_func(k, kp1, l, w_func, r_func, T_func, alpha, delta, tau ):\n",
    "    c = ((1 - tau)*(w_func(k, l, alpha)*l + \n",
    "                    (r_func(k, l, alpha) - delta)*k) + \n",
    "         k + \n",
    "         T_func(k, l, w_func, r_func, alpha, delta, tau) - \n",
    "         kp1)\n",
    "    return c\n",
    "\n",
    "# question 5 numerical solution\n",
    "def SS_sol (k, kp1, kp2, l, lp1, r_func, w_func, T_func, c_func, alpha, beta, delta, gamma, tau, xi, a, simple = False):\n",
    "    err = np.zeros((2,))\n",
    "    err[0] = (\n",
    "        (c_func(k, kp1, l, w_func, r_func, T_func, alpha, delta, tau))**(-gamma) - \n",
    "        beta*(c_func(kp1, kp2, lp1, w_func, r_func, T_func, alpha, delta, tau))**(-gamma)*\n",
    "        ((r_func(kp1, l, alpha) - delta)*(1 - tau) + 1)\n",
    "    )\n",
    "    if simple == False:\n",
    "        err[1] = (\n",
    "            a*(1 - l)**(- xi) - \n",
    "            (c_func(k, kp1, l, w_func, r_func, T_func, alpha, delta, tau))**(-gamma)*\n",
    "            w_func(k, l, alpha)*(1 - tau)\n",
    "        )\n",
    "    return err\n",
    "def crit_prob5 (var, *args):\n",
    "    k_bar = var\n",
    "    l, lp1, r_func, w_func, T_func, c_func, alpha, beta, delta, gamma, tau, xi, a, simple = args\n",
    "    return SS_sol(k_bar, k_bar, k_bar, l, lp1, r_func, w_func, T_func, c_func, alpha, beta, delta, gamma, tau, xi, a, simple)[0]\n",
    "\n",
    "def crit_prob6 (var, *args):\n",
    "    k_bar, l_bar = var\n",
    "    r_func, w_func, T_func, c_func, alpha, beta, delta, gamma, tau, xi, a, simple = args\n",
    "    return SS_sol(k_bar, k_bar, k_bar, l_bar, l_bar, r_func, w_func, T_func, c_func, alpha, beta, delta, gamma, tau, xi, a, simple)\n",
    "\n",
    "#Numerical solution to question 5&6\n",
    "\n",
    "args_prob5 = 1, 1, r_func, w_func, T_func, c_func, alpha, beta, delta, gamma, tau, xi, a, True\n",
    "args_prob6 = r_func, w_func, T_func, c_func, alpha, beta, delta, gamma, tau, xi, a, False\n",
    "\n",
    "result_prob5 = fsolve(crit_prob5, 3, args = (args_prob5))\n",
    "result_prob6 = fsolve(crit_prob6, (3,0.8), args = (args_prob6))\n",
    "k_prob5 = result_prob5\n",
    "Y_prob5 = k_prob5**alpha\n",
    "I_prob5 = delta*k_prob5\n",
    "k_prob6 = result_prob6[0]\n",
    "l_prob6 = result_prob6[1]\n",
    "Y_prob6 = k_prob6**alpha*l_prob6**(1 - alpha)\n",
    "I_prob6 = k_prob6*delta\n",
    "print(\"Problem 5: \\n\")\n",
    "print(\"Steady state capital: \", k_prob5)\n",
    "print(\"Steady state output: \", Y_prob5)\n",
    "print(\"Steady state investment: \", I_prob5, \"\\n\")\n",
    "print(\"Problem 6: \\n\")\n",
    "print(\"Steady state capital: \", k_prob6)\n",
    "print(\"Steady state labor: \", l_prob6)\n",
    "print(\"Steady state output: \", Y_prob6)\n",
    "print(\"Steady state investment: \", I_prob6)\n",
    "\n",
    "\n"
   ]
  },
  {
   "cell_type": "code",
   "execution_count": null,
   "metadata": {
    "collapsed": false
   },
   "outputs": [],
   "source": []
  },
  {
   "cell_type": "code",
   "execution_count": 78,
   "metadata": {
    "collapsed": false
   },
   "outputs": [
    {
     "name": "stdout",
     "output_type": "stream",
     "text": [
      "Once deleted, variables cannot be recovered. Proceed (y/[n])? y\n"
     ]
    }
   ],
   "source": [
    "%reset"
   ]
  },
  {
   "cell_type": "code",
   "execution_count": null,
   "metadata": {
    "collapsed": true
   },
   "outputs": [],
   "source": []
  }
 ],
 "metadata": {
  "kernelspec": {
   "display_name": "Python 3",
   "language": "python",
   "name": "python3"
  },
  "language_info": {
   "codemirror_mode": {
    "name": "ipython",
    "version": 3
   },
   "file_extension": ".py",
   "mimetype": "text/x-python",
   "name": "python",
   "nbconvert_exporter": "python",
   "pygments_lexer": "ipython3",
   "version": "3.6.0"
  }
 },
 "nbformat": 4,
 "nbformat_minor": 2
}
