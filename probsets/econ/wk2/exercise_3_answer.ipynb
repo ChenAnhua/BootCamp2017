{
 "cells": [
  {
   "cell_type": "code",
   "execution_count": 1,
   "metadata": {
    "collapsed": true
   },
   "outputs": [],
   "source": [
    "import numpy as np\n",
    "import matplotlib.pyplot as plt\n",
    "from scipy.optimize import brentq\n",
    "from numba import jit\n",
    "import quantecon as qe"
   ]
  },
  {
   "cell_type": "markdown",
   "metadata": {},
   "source": [
    "I wrote two different interpolation functions: first is based on for loop and second is a vectorized function. It turns out my vectorized function 'numbainterp_vec\" beats the Numpy.interp but for-loop based doesn't. Please see details below.\n",
    "The time results of Coleman operator( and EGM) is at the very end."
   ]
  },
  {
   "cell_type": "code",
   "execution_count": 2,
   "metadata": {
    "collapsed": false
   },
   "outputs": [],
   "source": [
    "@jit\n",
    "def numbainterp(x, xp, fp):\n",
    "    '''\n",
    "    numbainterp is a function optimized by Numba based on for loop structure\n",
    "\n",
    "    '''\n",
    "    order = np.argsort(xp)\n",
    "    xp = np.array(xp)[order]\n",
    "    fp = np.array(fp)[order]\n",
    "    x = np.array(x)\n",
    "    y = np.zeros_like(x)\n",
    "    for i in range(len(x)):\n",
    "        if x[i] > xp[-1]:\n",
    "            y[i] = fp[-1]\n",
    "            #y[i] = fp[-1] + (fp[-1] - fp[-2])/(xp[-1] - xp[-2])*(x[i] - xp[-1])\n",
    "        elif x[i] < xp[0]:\n",
    "            y[i] = fp[0]\n",
    "            #y[i] = fp[0] + (fp[1]- fp[0])/(xp[1] - xp[0])*(x[i] - xp[0])\n",
    "        for j in range(0, (len(xp)-1)):\n",
    "            if xp[j] == x[i]:\n",
    "                y[i] = fp[j]\n",
    "            elif xp[j] < x[i] and xp[j+1]> x[i]:\n",
    "                y[i] = (fp[j+1]- fp[j])/(xp[j+1]-xp[j])*(x[i] - xp[j]) + fp[j]\n",
    "\n",
    "    return(y)"
   ]
  },
  {
   "cell_type": "code",
   "execution_count": 3,
   "metadata": {
    "collapsed": true
   },
   "outputs": [],
   "source": [
    "@jit\n",
    "def numbainterp_vec(x, xp, fp):\n",
    "    '''\n",
    "    numbainterp_vec is a function based on vectorization optimized by Numba\n",
    "\n",
    "    '''\n",
    "    xp = np.array(xp)\n",
    "    fp = np.array(fp)\n",
    "    x = np.array(x)\n",
    "    slope  =  (fp[1:] - fp[:-1])/(xp[1:] - xp[:-1])\n",
    "    index = np.digitize(x, xp, right = True)\n",
    "    result = fp[index-1] + slope[index-1]*(x - xp[index-1])\n",
    "    \n",
    "    \n",
    "\n",
    "    return(result)"
   ]
  },
  {
   "cell_type": "code",
   "execution_count": 4,
   "metadata": {
    "collapsed": false
   },
   "outputs": [
    {
     "name": "stdout",
     "output_type": "stream",
     "text": [
      "Checking whether the linear interpolaton method returns the same result:\n",
      "\n",
      "[ 1.   1.   3.   4.5  3.6  8.8  4.6  4.9  4.6  2.3]\n",
      "[ 1.   1.   3.   4.5  3.6  8.8  4.6  4.9  4.6  2.3]\n",
      "[ 1.   1.   3.   4.5  3.6  8.8  4.6  4.9  4.6  2.3]\n"
     ]
    }
   ],
   "source": [
    "xp = [1, 2, 3, 5, 6, 7, 8, 9 ]\n",
    "fp = [3, 2, 0, 4, 5, 3, 7, 9]\n",
    "x = [2.5, 3.5, 4.5, 5.5, 6.7, 8.9, 7.4, 5.9, 6.2, 1.7]\n",
    "print(\"Checking whether the linear interpolaton method returns the same result:\\n\")\n",
    "print(np.interp(x, xp, fp))\n",
    "print(numbainterp(x, xp, fp))\n",
    "print(numbainterp_vec(x, xp, fp))"
   ]
  },
  {
   "cell_type": "code",
   "execution_count": 5,
   "metadata": {
    "collapsed": false
   },
   "outputs": [
    {
     "name": "stdout",
     "output_type": "stream",
     "text": [
      "time for Numpy interpolation:\n",
      "5.73 µs ± 421 ns per loop (mean ± std. dev. of 7 runs, 100000 loops each)\n",
      "time for function based on for loop:\n",
      "24.3 µs ± 2.67 µs per loop (mean ± std. dev. of 7 runs, 10000 loops each)\n",
      "time for vectorized function:\n",
      "4.69 µs ± 110 ns per loop (mean ± std. dev. of 7 runs, 100000 loops each)\n"
     ]
    }
   ],
   "source": [
    "print(\"time for Numpy interpolation:\")\n",
    "%timeit np.interp(x, xp, fp)\n",
    "print(\"time for function based on for loop:\")\n",
    "%timeit numbainterp(x, xp, fp)\n",
    "print(\"time for vectorized function:\")\n",
    "%timeit numbainterp_vec(x, xp, fp)"
   ]
  },
  {
   "cell_type": "markdown",
   "metadata": {
    "collapsed": false
   },
   "source": [
    "The results below shows my vectorized function beats numpy.interp"
   ]
  },
  {
   "cell_type": "code",
   "execution_count": 6,
   "metadata": {
    "collapsed": false
   },
   "outputs": [],
   "source": [
    "# using numba to speed up the Endogenized Grid Method code\n",
    "# coleman operator\n",
    "def coleman_operator(g, grid, beta, u_prime, f, f_prime, shocks, interp, Kg=None):\n",
    "    \"\"\"\n",
    "    The approximate Coleman operator, which takes an existing guess g of the\n",
    "    optimal consumption policy and computes and returns the updated function\n",
    "    Kg on the grid points.  An array to store the new set of values Kg is\n",
    "    optionally supplied (to avoid having to allocate new arrays at each\n",
    "    iteration).  If supplied, any existing data in Kg will be overwritten.\n",
    "\n",
    "    Parameters\n",
    "    ----------\n",
    "    g : array_like(float, ndim=1)\n",
    "        The value of the input policy function on grid points\n",
    "    grid : array_like(float, ndim=1)\n",
    "        The set of grid points\n",
    "    beta : scalar\n",
    "        The discount factor\n",
    "    u_prime : function\n",
    "        The derivative u'(c) of the utility function\n",
    "    f : function\n",
    "        The production function f(k)\n",
    "    f_prime : function\n",
    "        The derivative f'(k)\n",
    "    shocks : numpy array\n",
    "        An array of draws from the shock, for Monte Carlo integration (to\n",
    "        compute expectations).\n",
    "    interp: scalar\n",
    "        1: np.interp; 2: numbainterp; 3: numbainterp_vec\n",
    "    Kg : array_like(float, ndim=1) optional (default=None)\n",
    "        Array to write output values to\n",
    "\n",
    "    \"\"\"\n",
    "    # === Apply linear interpolation to g === #\n",
    "    if interp == 1:\n",
    "        g_func = lambda x: np.interp(x, grid, g)\n",
    "    elif interp == 2:\n",
    "        g_func = lambda x: numbainterp(x, grid, g)\n",
    "    elif interp ==3:\n",
    "        g_func = lambda x: numbainterp_vec(x, grid, g)\n",
    "\n",
    "    # == Initialize Kg if necessary == #\n",
    "    if Kg is None:\n",
    "        Kg = np.empty_like(g)\n",
    "\n",
    "    # == solve for updated consumption value\n",
    "    for i, y in enumerate(grid):\n",
    "        def h(c):\n",
    "            vals = u_prime(g_func(f(y - c) * shocks)) * f_prime(y - c) * shocks\n",
    "            return u_prime(c) - beta * np.mean(vals)\n",
    "        c_star = brentq(h, 1e-10, y - 1e-10)\n",
    "        Kg[i] = c_star\n",
    "\n",
    "    return Kg\n",
    "\n",
    "#endogenous grid method\n",
    "def coleman_egm(g, k_grid, beta, u_prime, u_prime_inv, f, f_prime, shocks, interp):\n",
    "    \"\"\"\n",
    "    The approximate Coleman operator, updated using the endogenous grid\n",
    "    method.\n",
    "\n",
    "    Parameters\n",
    "    ----------\n",
    "    g : function\n",
    "        The current guess of the policy function\n",
    "    k_grid : array_like(float, ndim=1)\n",
    "        The set of *exogenous* grid points, for capital k = y - c\n",
    "    beta : scalar\n",
    "        The discount factor\n",
    "    u_prime : function\n",
    "        The derivative u'(c) of the utility function\n",
    "    u_prime_inv : function\n",
    "        The inverse of u' (which exists by assumption)\n",
    "    f : function\n",
    "        The production function f(k)\n",
    "    f_prime : function\n",
    "        The derivative f'(k)\n",
    "    shocks : numpy array\n",
    "        An array of draws from the shock, for Monte Carlo integration (to\n",
    "        compute expectations).\n",
    "    interp: scalar\n",
    "        1: np.interp; 2: numbainterp; 3: numbainterp_vec\n",
    "    \"\"\"\n",
    "\n",
    "    # Allocate memory for value of consumption on endogenous grid points\n",
    "    c = np.empty_like(k_grid)\n",
    "\n",
    "    # Solve for updated consumption value\n",
    "    for i, k in enumerate(k_grid):\n",
    "        vals = u_prime(g(f(k) * shocks)) * f_prime(k) * shocks\n",
    "        c[i] = u_prime_inv(beta * np.mean(vals))\n",
    "\n",
    "    # Determine endogenous grid\n",
    "    y = k_grid + c  # y_i = k_i + c_i\n",
    "\n",
    "    # Update policy function and return\n",
    "    if interp == 1:\n",
    "        Kg = lambda x: np.interp(x, y, c)\n",
    "    elif interp == 2:\n",
    "        Kg = lambda x: numbainterp(x, y, c)\n",
    "    elif interp == 3:\n",
    "        Kg = lambda x: numbainterp_vec(x, y, c)\n",
    "    \n",
    "\n",
    "    return Kg\n"
   ]
  },
  {
   "cell_type": "code",
   "execution_count": 7,
   "metadata": {
    "collapsed": false
   },
   "outputs": [],
   "source": [
    "class LogLinearOG:\n",
    "    \"\"\"\n",
    "    Log linear optimal growth model, with log utility, CD production and\n",
    "    multiplicative lognormal shock, so that\n",
    "\n",
    "        y = f(k, z) = z k^alpha\n",
    "\n",
    "    with z ~ LN(mu, s).\n",
    "\n",
    "    The class holds parameters and true value and policy functions.\n",
    "    \"\"\"\n",
    "\n",
    "    def __init__(self, alpha=0.4, beta=0.96, mu=0, s=0.1):\n",
    "\n",
    "        self.alpha, self.beta, self.mu, self.s = alpha, beta, mu, s\n",
    "\n",
    "        # == Some useful constants == #\n",
    "        self.ab = alpha * beta\n",
    "        self.c1 = np.log(1 - self.ab) / (1 - beta)\n",
    "        self.c2 = (mu + alpha * np.log(self.ab)) / (1 - alpha)\n",
    "        self.c3 = 1 / (1 - beta)\n",
    "        self.c4 = 1 / (1 - self.ab)\n",
    "\n",
    "    def u(self, c):\n",
    "        \" Utility \"\n",
    "        return np.log(c)\n",
    "\n",
    "    def u_prime(self, c):\n",
    "        return 1 / c\n",
    "\n",
    "    def f(self, k):\n",
    "        \" Deterministic part of production function.  \"\n",
    "        return k**self.alpha\n",
    "\n",
    "    def f_prime(self, k):\n",
    "        return self.alpha * k**(self.alpha - 1)\n",
    "\n",
    "    def c_star(self, y):\n",
    "        \" True optimal policy.  \"\n",
    "        return (1 - self.alpha * self.beta) * y\n",
    "\n",
    "    def v_star(self, y):\n",
    "        \" True value function. \"\n",
    "        return self.c1 + self.c2 * (self.c3 - self.c4) + self.c4 * np.log(y)\n"
   ]
  },
  {
   "cell_type": "code",
   "execution_count": 8,
   "metadata": {
    "collapsed": true
   },
   "outputs": [],
   "source": [
    "lg = LogLinearOG()\n",
    "\n",
    "# == Unpack parameters / functions for convenience == #\n",
    "alpha, beta, mu, s = lg.alpha, lg.beta, lg.mu, lg.s\n",
    "v_star, c_star = lg.v_star, lg.c_star\n",
    "u, u_prime, f, f_prime = lg.u, lg.u_prime, lg.f, lg.f_prime"
   ]
  },
  {
   "cell_type": "code",
   "execution_count": 9,
   "metadata": {
    "collapsed": true
   },
   "outputs": [],
   "source": [
    "grid_max = 4         # Largest grid point, exogenous grid\n",
    "grid_size = 200      # Number of grid points\n",
    "shock_size = 250     # Number of shock draws in Monte Carlo integral\n",
    "\n",
    "k_grid = np.linspace(1e-5, grid_max, grid_size)\n",
    "shocks = np.exp(mu + s * np.random.randn(shock_size))"
   ]
  },
  {
   "cell_type": "code",
   "execution_count": 10,
   "metadata": {
    "collapsed": false
   },
   "outputs": [
    {
     "name": "stdout",
     "output_type": "stream",
     "text": [
      "TOC: Elapsed: 0.004001140594482422 seconds.\n"
     ]
    },
    {
     "data": {
      "image/png": "[encoded data removed]",
      "text/plain": [
       "<matplotlib.figure.Figure at 0x178bac6a240>"
      ]
     },
     "metadata": {},
     "output_type": "display_data"
    }
   ],
   "source": [
    "qe.util.tic()\n",
    "c_star_new = coleman_egm(c_star,\n",
    "            k_grid, beta, u_prime, u_prime, f, f_prime, shocks, 1)\n",
    "qe.util.toc()\n",
    "fig, ax = plt.subplots(figsize=(9, 6))\n",
    "\n",
    "ax.plot(k_grid, c_star(k_grid), label=\"optimal policy $c^*$\")\n",
    "ax.plot(k_grid, c_star_new(k_grid), label=\"$Kc^*$\")\n",
    "\n",
    "ax.legend(loc='upper left')\n",
    "plt.show()\n"
   ]
  },
  {
   "cell_type": "code",
   "execution_count": 11,
   "metadata": {
    "collapsed": false
   },
   "outputs": [
    {
     "name": "stdout",
     "output_type": "stream",
     "text": [
      "TOC: Elapsed: 0.6554281711578369 seconds.\n"
     ]
    },
    {
     "data": {
      "image/png": "[encoded data removed]",
      "text/plain": [
       "<matplotlib.figure.Figure at 0x178b9a19470>"
      ]
     },
     "metadata": {},
     "output_type": "display_data"
    }
   ],
   "source": [
    "g = lambda x: x\n",
    "n = 15\n",
    "fig, ax = plt.subplots(figsize=(9, 6))\n",
    "lb = 'initial condition $c(y) = y$'\n",
    "\n",
    "ax.plot(k_grid, g(k_grid), color=plt.cm.jet(0), lw=2, alpha=0.6, label=lb)\n",
    "qe.util.tic()\n",
    "for i in range(n):\n",
    "    new_g = coleman_egm(g, k_grid, beta, u_prime, u_prime, f, f_prime, shocks, 3)\n",
    "    g = new_g\n",
    "    ax.plot(k_grid, g(k_grid), color=plt.cm.jet(i / n), lw=2, alpha=0.6)\n",
    "qe.util.toc()\n",
    "lb = 'true policy function $c^*$'\n",
    "ax.plot(k_grid, c_star(k_grid), 'k-', lw=2, alpha=0.8, label=lb)\n",
    "ax.legend(loc='upper left')\n",
    "\n",
    "plt.show()"
   ]
  },
  {
   "cell_type": "code",
   "execution_count": 12,
   "metadata": {
    "collapsed": true
   },
   "outputs": [],
   "source": [
    "## Define the model\n",
    "\n",
    "alpha = 0.65\n",
    "beta = 0.95\n",
    "mu = 0\n",
    "s = 0.1\n",
    "grid_min = 1e-6\n",
    "grid_max = 4\n",
    "grid_size = 200\n",
    "shock_size = 250\n",
    "\n",
    "gamma = 1.5   # Preference parameter\n",
    "gamma_inv = 1 / gamma\n",
    "\n",
    "def f(k):\n",
    "    return k**alpha\n",
    "\n",
    "def f_prime(k):\n",
    "    return alpha * k**(alpha - 1)\n",
    "\n",
    "def u(c):\n",
    "    return (c**(1 - gamma) - 1) / (1 - gamma)\n",
    "\n",
    "def u_prime(c):\n",
    "    return c**(-gamma)\n",
    "\n",
    "def u_prime_inv(c):\n",
    "    return c**(-gamma_inv)\n",
    "\n",
    "k_grid = np.linspace(grid_min, grid_max, grid_size)\n",
    "shocks = np.exp(mu + s * np.random.randn(shock_size))\n",
    "\n",
    "## Let's make convenience functions based around these primitives\n",
    "\n",
    "def crra_coleman(g, interp):\n",
    "    return \n",
    "\n",
    "\n",
    "def crra_coleman_egm(g, interp):\n",
    "    return coleman_egm(g, k_grid, beta, u_prime, u_prime_inv, f, f_prime, shocks, interp)"
   ]
  },
  {
   "cell_type": "code",
   "execution_count": 13,
   "metadata": {
    "collapsed": false
   },
   "outputs": [
    {
     "name": "stdout",
     "output_type": "stream",
     "text": [
      "When using np.interp:\n",
      "\n",
      "Timing standard Coleman policy function iteration\n",
      "TOC: Elapsed: 0.0 seconds.\n",
      "Timing policy function iteration with endogenous grid\n",
      "TOC: Elapsed: 0.15795516967773438 seconds.\n",
      "\n",
      "\n",
      "When using vectorized interpolation function(Numbafied):\n",
      "\n",
      "Timing standard Coleman policy function iteration\n",
      "TOC: Elapsed: 0.0 seconds.\n",
      "Timing policy function iteration with endogenous grid\n",
      "TOC: Elapsed: 0.27386951446533203 seconds.\n",
      "\n",
      "\n",
      "When using for-loop interpolation function(Numbafied):\n",
      "\n",
      "Timing standard Coleman policy function iteration\n",
      "TOC: Elapsed: 0.0 seconds.\n",
      "Timing policy function iteration with endogenous grid\n",
      "TOC: Elapsed: 0.9368553161621094 seconds.\n"
     ]
    },
    {
     "data": {
      "text/plain": [
       "0.9368553161621094"
      ]
     },
     "execution_count": 13,
     "metadata": {},
     "output_type": "execute_result"
    }
   ],
   "source": [
    "sim_length = 20\n",
    "\n",
    "print(\"When using np.interp:\\n\")\n",
    "interp = 1\n",
    "print(\"Timing standard Coleman policy function iteration\")\n",
    "g_init = k_grid\n",
    "g = g_init\n",
    "qe.util.tic()\n",
    "for i in range(sim_length):\n",
    "    new_g = crra_coleman(g, interp)\n",
    "    g = new_g\n",
    "qe.util.toc()\n",
    "\n",
    "\n",
    "print(\"Timing policy function iteration with endogenous grid\")\n",
    "g_init_egm = lambda x: x\n",
    "g = g_init_egm\n",
    "qe.util.tic()\n",
    "for i in range(sim_length):\n",
    "    new_g = crra_coleman_egm(g, interp)\n",
    "    g = new_g\n",
    "qe.util.toc()\n",
    "\n",
    "print(\"\\n\")\n",
    "print(\"When using vectorized interpolation function(Numbafied):\\n\")\n",
    "interp = 3\n",
    "print(\"Timing standard Coleman policy function iteration\")\n",
    "g_init = k_grid\n",
    "g = g_init\n",
    "qe.util.tic()\n",
    "for i in range(sim_length):\n",
    "    new_g = crra_coleman(g, interp)\n",
    "    g = new_g\n",
    "qe.util.toc()\n",
    "\n",
    "\n",
    "print(\"Timing policy function iteration with endogenous grid\")\n",
    "g_init_egm = lambda x: x\n",
    "g = g_init_egm\n",
    "qe.util.tic()\n",
    "for i in range(sim_length):\n",
    "    new_g = crra_coleman_egm(g, interp)\n",
    "    g = new_g\n",
    "qe.util.toc()\n",
    "\n",
    "print(\"\\n\")\n",
    "print(\"When using for-loop interpolation function(Numbafied):\\n\")\n",
    "interp = 2\n",
    "print(\"Timing standard Coleman policy function iteration\")\n",
    "g_init = k_grid\n",
    "g = g_init\n",
    "qe.util.tic()\n",
    "for i in range(sim_length):\n",
    "    new_g = crra_coleman(g, interp)\n",
    "    g = new_g\n",
    "qe.util.toc()\n",
    "\n",
    "\n",
    "print(\"Timing policy function iteration with endogenous grid\")\n",
    "g_init_egm = lambda x: x\n",
    "g = g_init_egm\n",
    "qe.util.tic()\n",
    "for i in range(sim_length):\n",
    "    new_g = crra_coleman_egm(g, interp)\n",
    "    g = new_g\n",
    "qe.util.toc()"
   ]
  },
  {
   "cell_type": "code",
   "execution_count": null,
   "metadata": {
    "collapsed": true
   },
   "outputs": [],
   "source": []
  }
 ],
 "metadata": {
  "kernelspec": {
   "display_name": "Python 3",
   "language": "python",
   "name": "python3"
  },
  "language_info": {
   "codemirror_mode": {
    "name": "ipython",
    "version": 3
   },
   "file_extension": ".py",
   "mimetype": "text/x-python",
   "name": "python",
   "nbconvert_exporter": "python",
   "pygments_lexer": "ipython3",
   "version": "3.6.0"
  }
 },
 "nbformat": 4,
 "nbformat_minor": 2
}
