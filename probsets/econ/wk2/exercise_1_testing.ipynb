{
 "cells": [
  {
   "cell_type": "code",
   "execution_count": 48,
   "metadata": {
    "collapsed": false
   },
   "outputs": [
    {
     "name": "stdout",
     "output_type": "stream",
     "text": [
      "Spectral radius condition:  \t 0.965538166352\n",
      "Solution: \n",
      " [[ -0.89573125]\n",
      " [ 13.34324224]\n",
      " [ 45.64190719]]\n"
     ]
    }
   ],
   "source": [
    "'''\n",
    "Script for dynamic programming exercise 1\n",
    "'''\n",
    "import numpy as np\n",
    "import matplotlib.pyplot as plt\n",
    "\n",
    "# problem 1\n",
    "A = [[0.6, 0.1, -0.3],\n",
    "     [0.5, -0.4, 0.2],\n",
    "     [1.0, -0.2, 1.1]]\n",
    "\n",
    "b = [[12],\n",
    "     [10],\n",
    "     [-1]]\n",
    "\n",
    "A, b = map(np.asarray, (A, b))\n",
    "\n",
    "from scipy.linalg import eigvals, solve\n",
    "evs = eigvals(A)\n",
    "ρ = max(abs(evs))\n",
    "print(\"Spectral radius condition: \",\"\\t\", ρ)\n",
    "\n",
    "# solving x using progressive approximation\n",
    "# initial value\n",
    "tol = 1e-10\n",
    "epsilon = 1\n",
    "x_old  = np.array([1, 1, 1]).reshape([3, 1])\n",
    "while epsilon >= tol:\n",
    "    x_new = np.dot(A, x_old) + b\n",
    "    epsilon = (((x_new - x_old)/x_old)**2).sum()\n",
    "    x_old = x_new\n",
    "print(\"Solution: \\n\",x_old)\n",
    "\n",
    "\n",
    "# Problem 2 Job search model\n",
    "# we will firstly design a function to compute the reservation wage\n",
    "def get_rwage(c, *args):\n",
    "    rw_init, beta, wage, prob, epsilon_init, tol = args\n",
    "    wage, prob = map(np.asarray, (wage, prob))\n",
    "    rw_old = rw_init\n",
    "    epsilon = epsilon_init\n",
    "    while epsilon >= tol:\n",
    "        rw_new  = c*(1 - beta) + beta*(np.multiply((np.maximum(rw_old, wage)), prob).sum())\n",
    "        epsilon = (((rw_new - rw_old)/rw_old)**2).sum()\n",
    "        rw_old  = rw_new\n",
    "    return(rw_old)"
   ]
  },
  {
   "cell_type": "code",
   "execution_count": 50,
   "metadata": {
    "collapsed": false
   },
   "outputs": [],
   "source": [
    "rw_init = 1\n",
    "beta = 0.96\n",
    "wage = (0.5, 1.0, 1.5)\n",
    "prob = (0.2,0.4,0.4)\n",
    "c_vals = np.linspace(1, 2, 100)\n",
    "epsilon_init = 0.1\n",
    "tol = 1e-10\n",
    "rw_args = (rw_init, beta, wage, prob, epsilon_init, tol)\n"
   ]
  },
  {
   "cell_type": "code",
   "execution_count": 51,
   "metadata": {
    "collapsed": true
   },
   "outputs": [],
   "source": [
    "rw_vals = np.zeros_like(c_vals)"
   ]
  },
  {
   "cell_type": "code",
   "execution_count": 52,
   "metadata": {
    "collapsed": false
   },
   "outputs": [
    {
     "data": {
      "text/plain": [
       "array([ 0.,  0.,  0.,  0.,  0.,  0.,  0.,  0.,  0.,  0.,  0.,  0.,  0.,\n",
       "        0.,  0.,  0.,  0.,  0.,  0.,  0.,  0.,  0.,  0.,  0.,  0.,  0.,\n",
       "        0.,  0.,  0.,  0.,  0.,  0.,  0.,  0.,  0.,  0.,  0.,  0.,  0.,\n",
       "        0.,  0.,  0.,  0.,  0.,  0.,  0.,  0.,  0.,  0.,  0.,  0.,  0.,\n",
       "        0.,  0.,  0.,  0.,  0.,  0.,  0.,  0.,  0.,  0.,  0.,  0.,  0.,\n",
       "        0.,  0.,  0.,  0.,  0.,  0.,  0.,  0.,  0.,  0.,  0.,  0.,  0.,\n",
       "        0.,  0.,  0.,  0.,  0.,  0.,  0.,  0.,  0.,  0.,  0.,  0.,  0.,\n",
       "        0.,  0.,  0.,  0.,  0.,  0.,  0.,  0.,  0.])"
      ]
     },
     "execution_count": 52,
     "metadata": {},
     "output_type": "execute_result"
    }
   ],
   "source": []
  },
  {
   "cell_type": "code",
   "execution_count": null,
   "metadata": {
    "collapsed": true
   },
   "outputs": [],
   "source": []
  }
 ],
 "metadata": {
  "kernelspec": {
   "display_name": "Python 3",
   "language": "python",
   "name": "python3"
  },
  "language_info": {
   "codemirror_mode": {
    "name": "ipython",
    "version": 3
   },
   "file_extension": ".py",
   "mimetype": "text/x-python",
   "name": "python",
   "nbconvert_exporter": "python",
   "pygments_lexer": "ipython3",
   "version": "3.6.0"
  }
 },
 "nbformat": 4,
 "nbformat_minor": 2
}
