{
 "cells": [
  {
   "cell_type": "code",
   "execution_count": 214,
   "metadata": {
    "collapsed": true
   },
   "outputs": [],
   "source": [
    "import pandas as pd\n",
    "import numpy as np\n",
    "from datetime import datetime\n",
    "from matplotlib import pyplot as plt"
   ]
  },
  {
   "cell_type": "code",
   "execution_count": 208,
   "metadata": {
    "collapsed": false
   },
   "outputs": [],
   "source": [
    "# problem 1\n",
    "# readin the data\n",
    "djia = pd.read_csv(\"DJIA.csv\")\n",
    "# cleaning the missing values\n",
    "#djia = djia.fillna(np.nan)\n",
    "values = {\"VALUE\": djia['VALUE'].values}\n",
    "djia = pd.DataFrame(values, index = djia['DATE'])\n",
    "djia[djia.VALUE == \".\"]= np.nan\n",
    "djia.index = pd.to_datetime(djia.index)\n",
    "djia.VALUE = pd.to_numeric(djia.VALUE)"
   ]
  },
  {
   "cell_type": "code",
   "execution_count": 98,
   "metadata": {
    "collapsed": false
   },
   "outputs": [],
   "source": [
    "#problem 2\n",
    "# readin the data\n",
    "paychecks = pd.read_csv(\"paychecks.csv\", header = None)\n",
    "date1 = pd.date_range(start = '2008-03-13', periods = (len(paychecks)+1)/2,freq = \"WOM-1FRI\")\n",
    "date2 = pd.date_range(start = '2008-03-13', periods = (len(paychecks)-1)/2,freq = \"WOM-3FRI\")\n",
    "date = date1.union(date2)\n",
    "values = {\"paychecks\": paychecks[0].values}\n",
    "paychecks = pd.DataFrame(values, index = date)\n",
    "paychecks.index = pd.to_datetime(paychecks.index)"
   ]
  },
  {
   "cell_type": "code",
   "execution_count": 113,
   "metadata": {
    "collapsed": false
   },
   "outputs": [],
   "source": [
    "#problem4\n",
    "# readin the data\n",
    "finances = pd.read_csv(\"finances.csv\")\n",
    "p = pd.period_range(\"1978-09-01\", periods = len(finances), freq=\"Q-DEC\")\n",
    "p += 1\n",
    "values = {\"Ear\"}\n",
    "finances.index = p"
   ]
  },
  {
   "cell_type": "code",
   "execution_count": 131,
   "metadata": {
    "collapsed": false
   },
   "outputs": [
    {
     "name": "stdout",
     "output_type": "stream",
     "text": [
      "0 days 00:05:04.731647\n"
     ]
    }
   ],
   "source": [
    "#problem 5\n",
    "web_traffic = pd.read_csv(\"website_traffic.csv\")\n",
    "start = pd.to_datetime(web_traffic['ENTER'])\n",
    "end = pd.to_datetime(web_traffic['LEAVE'])\n",
    "duration = (end -start).mean()\n",
    "print(duration)"
   ]
  },
  {
   "cell_type": "code",
   "execution_count": 136,
   "metadata": {
    "collapsed": false
   },
   "outputs": [],
   "source": [
    "#firstly create a column with 1s \n",
    "web_traffic['Total number of visit'] = np.ones_like(range(len(web_traffic)))\n",
    "web_traffic.index = start"
   ]
  },
  {
   "cell_type": "code",
   "execution_count": 150,
   "metadata": {
    "collapsed": false
   },
   "outputs": [
    {
     "name": "stdout",
     "output_type": "stream",
     "text": [
      "Range\n",
      "2016-10-07 01:00    618\n",
      "2016-10-07 02:00    655\n",
      "2016-10-07 03:00    670\n",
      "2016-10-07 04:00    632\n",
      "2016-10-07 05:00    672\n",
      "2016-10-07 06:00    602\n",
      "2016-10-07 07:00    660\n",
      "2016-10-07 08:00    650\n",
      "2016-10-07 09:00    665\n",
      "2016-10-07 10:00    647\n",
      "2016-10-07 11:00    605\n",
      "2016-10-07 12:00    646\n",
      "2016-10-07 13:00    670\n",
      "2016-10-07 14:00    628\n",
      "2016-10-07 15:00    607\n",
      "2016-10-07 16:00    683\n",
      "2016-10-07 17:00    632\n",
      "2016-10-07 18:00    629\n",
      "2016-10-07 19:00    702\n",
      "2016-10-07 20:00    644\n",
      "2016-10-07 21:00    641\n",
      "2016-10-07 22:00    677\n",
      "Freq: H, Name: Total number of visit, dtype: int32\n"
     ]
    }
   ],
   "source": [
    "visit = web_traffic['Total number of visit'].resample(\"H\").sum()\n",
    "visit.index = visit.index.to_period()\n",
    "visit.index.names = ['Range']\n",
    "print(visit)"
   ]
  },
  {
   "cell_type": "code",
   "execution_count": 171,
   "metadata": {
    "collapsed": false
   },
   "outputs": [
    {
     "name": "stdout",
     "output_type": "stream",
     "text": [
      "Date with largest gain:  2008-10-13 00:00:00\n",
      "Largest gain:  936.42\n",
      "Date with largest loss:  2008-09-29 00:00:00\n",
      "Largest loss:  -777.68\n",
      "Month with largest gain:  2015-10-31 00:00:00\n",
      "Largest monthly gain:  1378.84\n",
      "Month with largest loss:  2008-10-31 00:00:00\n",
      "Largest monthly loss:  -1525.65\n"
     ]
    }
   ],
   "source": [
    "#proble6\n",
    "#daily change\n",
    "dailychange = djia - djia.shift(1)\n",
    "maxvalue = dailychange.VALUE.max()\n",
    "maxdate = dailychange.VALUE.idxmax()\n",
    "print(\"Date with largest gain: \", maxdate)\n",
    "print(\"Largest gain: \", maxvalue)\n",
    "minvalue = dailychange.VALUE.min()\n",
    "mindate = dailychange.VALUE.idxmin()\n",
    "print(\"Date with largest loss: \", mindate)\n",
    "print(\"Largest loss: \", minvalue)\n",
    "# monthly change\n",
    "monthlychange = dailychange.resample(\"M\").sum()\n",
    "maxvalue_m = monthlychange.VALUE.max()\n",
    "maxdate_m = monthlychange.VALUE.idxmax()\n",
    "print(\"Month with largest gain: \", maxdate_m)\n",
    "print(\"Largest monthly gain: \", maxvalue_m)\n",
    "minvalue_m = monthlychange.VALUE.min()\n",
    "mindate_m = monthlychange.VALUE.idxmin()\n",
    "print(\"Month with largest loss: \", mindate_m)\n",
    "print(\"Largest monthly loss: \", minvalue_m)"
   ]
  },
  {
   "cell_type": "code",
   "execution_count": 209,
   "metadata": {
    "collapsed": false
   },
   "outputs": [],
   "source": [
    "#probelm 7\n",
    "rolling_30 = djia.rolling(30).mean()\n",
    "rolling_365= djia.rolling(365).mean()\n",
    "ewma_30 = djia['VALUE'].ewm(span = 30).mean()\n",
    "ewma_365 = djia['VALUE'].ewm(span = 365).mean()"
   ]
  },
  {
   "cell_type": "code",
   "execution_count": 210,
   "metadata": {
    "collapsed": false
   },
   "outputs": [],
   "source": [
    "djia['rolling_30'] = rolling_30.VALUE.values\n",
    "djia['rolling_365'] = rolling_365.VALUE.values\n",
    "djia['exponential weighted ma (30)'] = ewma_30.values\n",
    "djia['exponential weighted ma (365)'] = ewma_365.values\n"
   ]
  },
  {
   "cell_type": "code",
   "execution_count": 216,
   "metadata": {
    "collapsed": false
   },
   "outputs": [
    {
     "data": {
      "image/png": "[encoded data removed]",
      "text/plain": [
       "<matplotlib.figure.Figure at 0x22b36597f98>"
      ]
     },
     "metadata": {},
     "output_type": "display_data"
    }
   ],
   "source": [
    "djia.plot(title = 'Dow Jones Industrial Average')\n",
    "plt.show()"
   ]
  },
  {
   "cell_type": "code",
   "execution_count": 219,
   "metadata": {
    "collapsed": false
   },
   "outputs": [
    {
     "data": {
      "text/plain": [
       "nan"
      ]
     },
     "execution_count": 219,
     "metadata": {},
     "output_type": "execute_result"
    }
   ],
   "source": []
  },
  {
   "cell_type": "code",
   "execution_count": null,
   "metadata": {
    "collapsed": true
   },
   "outputs": [],
   "source": []
  }
 ],
 "metadata": {
  "kernelspec": {
   "display_name": "Python 3",
   "language": "python",
   "name": "python3"
  },
  "language_info": {
   "codemirror_mode": {
    "name": "ipython",
    "version": 3
   },
   "file_extension": ".py",
   "mimetype": "text/x-python",
   "name": "python",
   "nbconvert_exporter": "python",
   "pygments_lexer": "ipython3",
   "version": "3.6.0"
  }
 },
 "nbformat": 4,
 "nbformat_minor": 2
}
