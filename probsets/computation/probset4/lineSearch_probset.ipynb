{
 "cells": [
  {
   "cell_type": "code",
   "execution_count": 32,
   "metadata": {
    "collapsed": true
   },
   "outputs": [],
   "source": [
    "import numpy as np\n",
    "import time"
   ]
  },
  {
   "cell_type": "code",
   "execution_count": 33,
   "metadata": {
    "collapsed": false
   },
   "outputs": [
    {
     "name": "stdout",
     "output_type": "stream",
     "text": [
      "It requires  17  iterations to get within  0.001\n",
      "It tooks  0.0003289053190655977  seconds\n"
     ]
    }
   ],
   "source": [
    "#problem 1\n",
    "def golden_ratio(f, a, b, niter, tol = 1e-3):\n",
    "    \n",
    "    for k in range(niter):\n",
    "        a_p = a + 0.382*(b - a)\n",
    "        b_p = a + 0.618*(b - a)\n",
    "        if f(a_p) >= f(b_p):\n",
    "            a = a_p\n",
    "            b = b\n",
    "        else:\n",
    "            a = a\n",
    "            b = b_p\n",
    "        if (b - a) < tol:\n",
    "            break\n",
    "            \n",
    "    return a, b, k\n",
    "\n",
    "# testing\n",
    "f1 = lambda x: np.exp(x) - 4*x\n",
    "a, b = 0, 3\n",
    "niter = 100\n",
    "tol = 1e-3\n",
    "start_time = time.clock()\n",
    "a1, b1, iter1 = golden_ratio(f1, a, b, niter, tol = tol)\n",
    "time1 = time.clock() - start_time\n",
    "\n",
    "print(\"It requires \", iter1+1, \" iterations to get within \", tol)\n",
    "print(\"It tooks \", time1, \" seconds\")"
   ]
  },
  {
   "cell_type": "code",
   "execution_count": 34,
   "metadata": {
    "collapsed": false
   },
   "outputs": [
    {
     "name": "stdout",
     "output_type": "stream",
     "text": [
      "It requires  12  iterations to get within  0.001\n",
      "It tooks  0.00011570002709504479  seconds\n"
     ]
    }
   ],
   "source": [
    "#problem 2\n",
    "def bisection(f_p, a, b, niter, tol = 1e-3 ):\n",
    "    for k in range(niter):\n",
    "        if f_p((a + b)/2.) > 0:\n",
    "            b = (a + b)/2.\n",
    "        elif f_p((a + b)/2.) < 0:\n",
    "            a = (a + b)/2.\n",
    "        else:\n",
    "            print(\"minimize is \", (a + b)/2.)\n",
    "        if (b - a) < tol:\n",
    "            break\n",
    "    return a, b, k\n",
    "# testing\n",
    "f2 = lambda x: np.exp(x) - 4\n",
    "a, b = 0, 3\n",
    "niter = 100\n",
    "tol = 1e-3\n",
    "start_time = time.clock()\n",
    "a2, b2, iter2 = bisection(f2, a, b, niter, tol = tol)\n",
    "time2 = time.clock() - start_time\n",
    "\n",
    "print(\"It requires \", iter2+1, \" iterations to get within \", tol)\n",
    "print(\"It tooks \", time2, \" seconds\")\n"
   ]
  },
  {
   "cell_type": "code",
   "execution_count": 43,
   "metadata": {
    "collapsed": false
   },
   "outputs": [
    {
     "name": "stdout",
     "output_type": "stream",
     "text": [
      "The algorithm converged\n",
      "after  47 iterations\n",
      "minimizer is:  -1.44731422363\n",
      "If I choose a different initial point...\n",
      "The algorithm converged\n",
      "after  2 iterations\n",
      "minimizer is:  0.871281083123\n"
     ]
    }
   ],
   "source": [
    "#problem 3\n",
    "def d1_newton(f, f_p, f_p2, x0, tol, maxiter):\n",
    "    for k in range(maxiter):\n",
    "        x1 = x0 - f_p(x0)/f_p2(x0)\n",
    "        if abs(x1 -x0) < tol:\n",
    "            print(\"The algorithm converged\")\n",
    "            break\n",
    "        x0 = x1\n",
    "    if k == maxiter-1:\n",
    "        print(\"The algorithm didn't converge within given steps\")\n",
    "    else:\n",
    "        print(\"after \", k, \"iterations\")\n",
    "    return x1, k\n",
    "#testing\n",
    "f3 = lambda x: x**2 + np.sin(5*x)\n",
    "f3_p = lambda x: 2*x + 5*np.cos(5*x)\n",
    "f3_p2 = lambda x: 2 - 25*np.sin(5*x)\n",
    "x0 = 0\n",
    "tol = 1e-5\n",
    "maxiter = 100\n",
    "x3, k3 = d1_newton(f3, f3_p, f3_p2, x0, tol, maxiter)\n",
    "print(\"minimizer is: \", x3)\n",
    "print(\"If I choose a different initial point...\")\n",
    "x0_p = 1\n",
    "tol = 1e-5\n",
    "maxiter = 100\n",
    "x3_p, k3_p = d1_newton(f3, f3_p, f3_p2, x0_p, tol, maxiter)\n",
    "print(\"minimizer is: \", x3_p)"
   ]
  },
  {
   "cell_type": "code",
   "execution_count": 48,
   "metadata": {
    "collapsed": false
   },
   "outputs": [
    {
     "name": "stdout",
     "output_type": "stream",
     "text": [
      "The algorithm converged\n",
      "after  7 iterations\n",
      "minimizer is:  -0.163677218465\n",
      "If I choose a different initial points...\n",
      "The algorithm converged\n",
      "after  12 iterations\n",
      "minimizer is:  -1.38749007432\n"
     ]
    }
   ],
   "source": [
    "#problem 4\n",
    "def secant(f, f_p, x0, x1, tol, maxiter):\n",
    "    for k in range(maxiter):\n",
    "        x2 = x1 - (x1 - x0)/(f_p(x1) - f_p(x0))*f_p(x1)\n",
    "        if abs(x2 -x1) < tol:\n",
    "            print(\"The algorithm converged\")\n",
    "            break\n",
    "        x0 = x1\n",
    "        x1 = x2\n",
    "    if k == maxiter-1:\n",
    "        print(\"The algorithm didn't converge within given steps\")\n",
    "    else:\n",
    "        print(\"after \", k, \"iterations\")\n",
    "    return x2, k\n",
    "\n",
    "#testing\n",
    "f4 = lambda x: x**2 + np.sin(x) + np.sin(10*x)\n",
    "f4_p = lambda x: 2*x + np.cos(x) + 10*np.cos(10*x)\n",
    "x0 = 0\n",
    "x1 = -1\n",
    "tol = 1e-5\n",
    "maxiter = 100\n",
    "x4, k4 = secant(f4, f4_p, x0, x1, tol, maxiter)\n",
    "print(\"minimizer is: \", x4)\n",
    "print(\"If I choose a different initial points...\")\n",
    "x0 = 1\n",
    "x1 = -1\n",
    "tol = 1e-5\n",
    "maxiter = 100\n",
    "x4, k4 = secant(f4, f4_p, x0, x1, tol, maxiter)\n",
    "print(\"minimizer is: \", x4)"
   ]
  },
  {
   "cell_type": "code",
   "execution_count": 49,
   "metadata": {
    "collapsed": false
   },
   "outputs": [],
   "source": [
    "# problem 5\n"
   ]
  },
  {
   "cell_type": "code",
   "execution_count": null,
   "metadata": {
    "collapsed": true
   },
   "outputs": [],
   "source": [
    "%reset"
   ]
  }
 ],
 "metadata": {
  "kernelspec": {
   "display_name": "Python 3",
   "language": "python",
   "name": "python3"
  },
  "language_info": {
   "codemirror_mode": {
    "name": "ipython",
    "version": 3
   },
   "file_extension": ".py",
   "mimetype": "text/x-python",
   "name": "python",
   "nbconvert_exporter": "python",
   "pygments_lexer": "ipython3",
   "version": "3.6.0"
  }
 },
 "nbformat": 4,
 "nbformat_minor": 2
}
