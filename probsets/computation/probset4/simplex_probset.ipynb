{
 "cells": [
  {
   "cell_type": "code",
   "execution_count": 1,
   "metadata": {
    "collapsed": true
   },
   "outputs": [],
   "source": [
    "import numpy as np\n",
    "\n",
    "\n",
    "class SimplexSolver(object):\n",
    "\n",
    "    def __init__(self, c, A, b):\n",
    "\n",
    "        d = b < 0\n",
    "        if d.any():\n",
    "            raise ValueError(\"System is infeasible at the origin!\")\n",
    "        self.A = np.array(A)\n",
    "        self.c = c\n",
    "        self.b = b\n",
    "        \n",
    "        m,n = A.shape\n",
    "        self.m,self.n=m,n\n",
    "        self.L = list(range(n,n+m)+range(n))\n",
    "        \n",
    "        self.initialize_tableau()\n",
    "        \n",
    "    def initialize_tableau(self):\n",
    "        self.Abar = np.bmat([self.A,np.eye(self.m)])\n",
    "        self.cbar = np.hstack((np.hstack(self.c),np.hstack(np.zeros((self.m,1)))))\n",
    "        self.T = np.bmat([[np.reshape(np.array([0]),(1,1)),-1.*np.reshape(self.cbar,(1,len(self.cbar))),np.array([[1]])],[np.reshape(self.b,(len(self.b),1)),self.Abar,np.zeros((len(self.b),1))]])\n",
    "        \n",
    "    def find_pivot(self):\n",
    "        col = 1\n",
    "        row = 1\n",
    "        while self.T[0,col] >= 0:\n",
    "            col+=1\n",
    "        best = np.inf\n",
    "       \n",
    "        if not (self.T[:,col]>0).any():\n",
    "            raise ValueError(\"Unbounded problem!\")\n",
    "        for num, thing in enumerate(self.T[1:,col]):\n",
    "            if mask[num+1]:\n",
    "                if self.T[num+1,0]/float(thing)<best:\n",
    "                    best = self.T[num+1,0]/float(thing)\n",
    "                    row = num+1\n",
    "        self.col = col\n",
    "        self.row = row\n",
    "    \n",
    "    def pivot(self):\n",
    "        ind1 = self.row-1\n",
    "        ind2 = self.L.index(self.col-1)\n",
    "        self.L[ind1],self.L[ind2] = self.L[ind2],self.L[ind1]\n",
    "        self.T[self.row,:]/=float(self.T[self.row,self.col])\n",
    "        for i in xrange(len(self.T)):\n",
    "            if i == self.row:\n",
    "                pass\n",
    "            else:\n",
    "                factor = self.T[i,self.col]/float(self.T[self.row,self.col])\n",
    "                self.T[i,:] -= factor * self.T[self.row]\n",
    "    \n",
    "    def solve(self):\n",
    "        finished = False\n",
    "        while not finished:\n",
    "            if (self.T[0,1:]>=0).all():\n",
    "                finished = True\n",
    "                break\n",
    "            self.find_pivot()\n",
    "            self.pivot()\n",
    "        optimum = self.T[0,0]\n",
    "        basic = {}\n",
    "        for i in xrange(self.m):\n",
    "            basic[self.L[i]] = self.T[i+1,0]\n",
    "        non_basic={}\n",
    "        for i in xrange(self.m,len(self.L)):\n",
    "            non_basic[self.L[i]] = 0\n",
    "        return optimum,basic,non_basic\n",
    "\n",
    "\n"
   ]
  },
  {
   "cell_type": "code",
   "execution_count": null,
   "metadata": {
    "collapsed": true
   },
   "outputs": [],
   "source": []
  }
 ],
 "metadata": {
  "kernelspec": {
   "display_name": "Python 3",
   "language": "python",
   "name": "python3"
  },
  "language_info": {
   "codemirror_mode": {
    "name": "ipython",
    "version": 3
   },
   "file_extension": ".py",
   "mimetype": "text/x-python",
   "name": "python",
   "nbconvert_exporter": "python",
   "pygments_lexer": "ipython3",
   "version": "3.6.0"
  }
 },
 "nbformat": 4,
 "nbformat_minor": 2
}
