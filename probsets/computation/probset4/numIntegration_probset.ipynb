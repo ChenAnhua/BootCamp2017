{
 "cells": [
  {
   "cell_type": "code",
   "execution_count": 1,
   "metadata": {
    "collapsed": true
   },
   "outputs": [],
   "source": [
    "import numpy as np\n",
    "import scipy.stats as st\n",
    "import scipy.optimize as opt"
   ]
  },
  {
   "cell_type": "code",
   "execution_count": 2,
   "metadata": {
    "collapsed": false
   },
   "outputs": [
    {
     "name": "stdout",
     "output_type": "stream",
     "text": [
      "Midpoint Difference: -0.0136866573321\n",
      "Trapezoid Difference: 0.0273733226686\n",
      "Simpsons Difference: 2.668457455e-09\n"
     ]
    }
   ],
   "source": [
    "def prob_1(f, a, b, N, method):\n",
    "    interval = (b-a)/N\n",
    "    func = np.vectorize(f)\n",
    "    x_1 = np.sum(func(np.linspace(a+(0.5*interval),b-(0.5*interval),N)))\n",
    "    x_2 = np.sum(func(np.linspace(a+interval,b-interval,N-1)))\n",
    "    if method=='midpoint':\n",
    "        integral = interval*x_1\n",
    "    elif method=='trapezoid':\n",
    "        integral = 0.5*interval*(f(a)+f(b)+2*x_2)\n",
    "    elif method=='Simpsons':\n",
    "        integral = (1/6)*interval*(f(a)+f(b)+4*x_1+2*x_2)\n",
    "    else:\n",
    "        raise ValueError(\"Undefined method!\")\n",
    "    return integral\n",
    "g = lambda x: 0.1*x**4-1.5*x**3+0.53*x**2+2*x+1\n",
    "N = 1000\n",
    "A = 4373+(1/3)\n",
    "print(\"Midpoint Difference:\", prob_1(g, -10, 10, N, 'midpoint')-A)\n",
    "print(\"Trapezoid Difference:\", prob_1(g, -10, 10, N, 'trapezoid')-A)\n",
    "print(\"Simpsons Difference:\", prob_1(g, -10, 10, N, 'Simpsons')-A)"
   ]
  },
  {
   "cell_type": "code",
   "execution_count": 6,
   "metadata": {
    "collapsed": false
   },
   "outputs": [
    {
     "data": {
      "text/plain": [
       "(array([-3.        , -2.33333333, -1.66666667, -1.        , -0.33333333,\n",
       "         0.33333333,  1.        ,  1.66666667,  2.33333333,  3.        ]),\n",
       " array([ 0.00383038,  0.01748126,  0.06631809,  0.16131382,  0.25158882,\n",
       "         0.25158882,  0.16131382,  0.06631809,  0.01748126,  0.00383038]))"
      ]
     },
     "execution_count": 6,
     "metadata": {},
     "output_type": "execute_result"
    }
   ],
   "source": [
    "def prob_2(mu, sigma, N, k):\n",
    "    a = mu -  sigma*k\n",
    "    b = mu + sigma*k\n",
    "    z = np.linspace(a,b,N)\n",
    "    w = np.zeros(N)\n",
    "    w[0] = st.norm.cdf(0.5*(z[0]+z[1]),loc=mu,scale=sigma)\n",
    "    w[N-1] = 1-st.norm.cdf(0.5*(z[N-2]+z[N-1]),loc=mu,scale=sigma)\n",
    "    for i in range(1,N-1):\n",
    "        zmin = (z[i-1]+z[i])*0.5\n",
    "        zmax = (z[i+1]+z[i])*0.5\n",
    "        f = lambda x: st.norm.pdf(z[i],loc=mu,scale=sigma)\n",
    "        w[i] = prob_1(f, zmin, zmax, N, 'Simpsons')\n",
    "    return z,w\n",
    "prob_2(0, 1, 10, 3)"
   ]
  },
  {
   "cell_type": "code",
   "execution_count": 8,
   "metadata": {
    "collapsed": false
   },
   "outputs": [
    {
     "data": {
      "text/plain": [
       "(array([  0.04978707,   0.09697197,   0.1888756 ,   0.36787944,\n",
       "          0.71653131,   1.39561243,   2.71828183,   5.29449005,\n",
       "         10.3122585 ,  20.08553692]),\n",
       " array([ 0.00383038,  0.01748126,  0.06631809,  0.16131382,  0.25158882,\n",
       "         0.25158882,  0.16131382,  0.06631809,  0.01748126,  0.00383038]))"
      ]
     },
     "execution_count": 8,
     "metadata": {},
     "output_type": "execute_result"
    }
   ],
   "source": [
    "#porblem 3\n",
    "def prob_3(mu, sigma, N, k):\n",
    "    nodes, weights = prob_2(mu, sigma, N, k)\n",
    "    nodes = np.exp(nodes)\n",
    "    return nodes, weights\n",
    "prob_3(0, 1, 10, 3)"
   ]
  },
  {
   "cell_type": "code",
   "execution_count": 10,
   "metadata": {
    "collapsed": false
   },
   "outputs": [
    {
     "name": "stdout",
     "output_type": "stream",
     "text": [
      "50011.0870085\n",
      "49862.6503867\n"
     ]
    }
   ],
   "source": [
    "def prob_4(nodes, weights):\n",
    "    return np.sum(nodes@weights)\n",
    "mu = 10.5\n",
    "sigma = 0.8\n",
    "N = 50\n",
    "k = 3\n",
    "N, W= prob_3(mu, sigma, N, k)\n",
    "income_expect = prob_4(N, W)\n",
    "actual_expect = np.exp(mu+(sigma**2)/2)\n",
    "print(actual_expect)\n",
    "print(income_expect)"
   ]
  },
  {
   "cell_type": "code",
   "execution_count": 11,
   "metadata": {
    "collapsed": false
   },
   "outputs": [
    {
     "name": "stdout",
     "output_type": "stream",
     "text": [
      "-9.09494701773e-13\n"
     ]
    }
   ],
   "source": [
    "a = -10\n",
    "b = 10\n",
    "\n",
    "def v_func(x):\n",
    "    vec = np.empty(6)\n",
    "    for i in range(6):\n",
    "        j = i+1\n",
    "        rhs = 0\n",
    "        for k in range(3):\n",
    "            rhs += x[k]*(x[k+3]**i)\n",
    "        vec[i] = (b**j-a**j)/j - rhs\n",
    "    return vec\n",
    "\n",
    "x_0 = np.ones(6)\n",
    "x = opt.root(v_func,x_0,tol=1e-14).x\n",
    "integral = 0\n",
    "for k in range(3):\n",
    "    integral += x[k]*(g(x[k+3]))\n",
    "actual = 4373+(1/3) \n",
    "print( integral-actual)"
   ]
  },
  {
   "cell_type": "code",
   "execution_count": 12,
   "metadata": {
    "collapsed": false
   },
   "outputs": [
    {
     "name": "stdout",
     "output_type": "stream",
     "text": [
      "9.094947017729282e-13\n"
     ]
    }
   ],
   "source": [
    "from scipy.integrate import quad as quad\n",
    "scipy_estimate = quad(g,a,b)[0]\n",
    "print( scipy_estimate-actual)"
   ]
  },
  {
   "cell_type": "code",
   "execution_count": null,
   "metadata": {
    "collapsed": true
   },
   "outputs": [],
   "source": []
  }
 ],
 "metadata": {
  "kernelspec": {
   "display_name": "Python 3",
   "language": "python",
   "name": "python3"
  },
  "language_info": {
   "codemirror_mode": {
    "name": "ipython",
    "version": 3
   },
   "file_extension": ".py",
   "mimetype": "text/x-python",
   "name": "python",
   "nbconvert_exporter": "python",
   "pygments_lexer": "ipython3",
   "version": "3.6.0"
  }
 },
 "nbformat": 4,
 "nbformat_minor": 2
}
