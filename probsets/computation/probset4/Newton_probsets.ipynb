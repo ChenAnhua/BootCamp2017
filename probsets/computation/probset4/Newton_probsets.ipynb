{
 "cells": [
  {
   "cell_type": "code",
   "execution_count": 1,
   "metadata": {
    "collapsed": true
   },
   "outputs": [],
   "source": [
    "import numpy as np\n",
    "from scipy import optimize as opt\n",
    "from matplotlib import pyplot as plt\n",
    "from numpy import linalg as la"
   ]
  },
  {
   "cell_type": "code",
   "execution_count": 2,
   "metadata": {
    "collapsed": false
   },
   "outputs": [
    {
     "name": "stdout",
     "output_type": "stream",
     "text": [
      "The algorithm converged\n",
      "The algorithm converged after  3  iterations\n",
      "Root is  0.69314718056\n"
     ]
    }
   ],
   "source": [
    "# Problem 1\n",
    "def d1_newton(f, f_prime, x0, tol = 1e-5, maxiter = 15):\n",
    "    for k in range(maxiter):\n",
    "        indicator = False\n",
    "        x1 = x0 - f(x0)/f_prime(x0)\n",
    "        if abs(x1 - x0) < tol:\n",
    "            indicator = True\n",
    "            print(\"The algorithm converged\")\n",
    "            print(\"The algorithm converged after \", k, \" iterations\")\n",
    "            print(\"Root is \", x1)\n",
    "            break\n",
    "        x0 = x1\n",
    "    return x1, indicator, k\n",
    "\n",
    "#problem 1 testing\n",
    "f = lambda x: np.exp(x)-2\n",
    "f_p = lambda x: np.exp(x)\n",
    "x0 = 0.5\n",
    "x_bar, convergence, numiter = d1_newton(f, f_p, x0)"
   ]
  },
  {
   "cell_type": "code",
   "execution_count": 3,
   "metadata": {
    "collapsed": false
   },
   "outputs": [
    {
     "name": "stdout",
     "output_type": "stream",
     "text": [
      "The algorithm converged\n",
      "The algorithm converged after  3  iterations\n",
      "Root is  0.03877843204799235\n"
     ]
    }
   ],
   "source": [
    "#problem 2\n",
    "N1, N2, P1, P2 = 30, 20, 2000, 8000\n",
    "f2 = lambda x: P1*((1 + x)**N1 - 1) - P2*(1 - (1 + x)**(-N2))\n",
    "f2_p = lambda x: N1*P1*(1 + x)**(N1 - 1) - N2*P2*(1 + x)**(-1 - N2)\n",
    "x0  = 0.05\n",
    "x2_bar, convergence2, numiter2 = d1_newton(f2, f2_p, x0)"
   ]
  },
  {
   "cell_type": "code",
   "execution_count": 6,
   "metadata": {
    "collapsed": false
   },
   "outputs": [
    {
     "name": "stdout",
     "output_type": "stream",
     "text": [
      "Using backtracking, the status of the algorithm is:  True\n",
      "Without using backtracking, the status of the algorithm is:  False\n"
     ]
    }
   ],
   "source": [
    "#problem 3\n",
    "def d1_newton_bt(f, f_prime, x0, tol = 1e-5, maxiter = 15, alpha = 1):\n",
    "    for k in range(maxiter):\n",
    "        indicator = False\n",
    "        x1 = x0 - alpha*f(x0)/f_prime(x0)\n",
    "        if abs(x1 - x0) < tol:\n",
    "            indicator = True\n",
    "            #print(\"The algorithm converged\")\n",
    "            #print(\"The algorithm converged after \", k, \" iterations\")\n",
    "            #print(\"Root is \", x1)\n",
    "            break\n",
    "        x0 = x1\n",
    "    return x1, indicator, k\n",
    "f3 = lambda x: np.sign(x) * np.power(np.abs(x), 1./3)\n",
    "f3_p = lambda x: (1./3)*np.power(np.abs(x), -2./3)\n",
    "x0 = 0.01\n",
    "\n",
    "x3_bar_bt, convergence3_bt, numiter3_bt = d1_newton_bt(f3, f3_p, x0, alpha = .4)\n",
    "print(\"Using backtracking, the status of the algorithm is: \", convergence3_bt)\n",
    "x3_bar, convergence3, numiter3 = d1_newton_bt(f3, f3_p, x0)\n",
    "print(\"Without using backtracking, the status of the algorithm is: \", convergence3)"
   ]
  },
  {
   "cell_type": "code",
   "execution_count": 7,
   "metadata": {
    "collapsed": false
   },
   "outputs": [
    {
     "data": {
      "image/png": "[encoded data removed]",
      "text/plain": [
       "<matplotlib.figure.Figure at 0x18b72fe31d0>"
      ]
     },
     "metadata": {},
     "output_type": "display_data"
    }
   ],
   "source": [
    "#problem 4\n",
    "def opt_alpha(f, f_prime, x0, alphavec, tol = 1e-5, maxiter = 15):\n",
    "    results = np.zeros_like(alphavec)\n",
    "    for i, alpha in enumerate(alphavec):\n",
    "        results[i] = d1_newton_bt(f, f_prime, x0, maxiter= maxiter, alpha = alpha)[2]\n",
    "    return results\n",
    "alphavec = np.linspace(1e-5, 1, 100)\n",
    "alpha_comparison =  opt_alpha(f3, f3_p, x0, alphavec, maxiter = 100)\n",
    "# plotting\n",
    "alpha_compare_fig = plt.figure()\n",
    "plt.plot(alphavec[1:], alpha_comparison[1:], \"k\")\n",
    "plt.ylabel(\"Numer of iterations to converge\")\n",
    "plt.xlabel(\"Alpha value\")\n",
    "plt.show()"
   ]
  },
  {
   "cell_type": "code",
   "execution_count": 8,
   "metadata": {
    "collapsed": false
   },
   "outputs": [
    {
     "name": "stdout",
     "output_type": "stream",
     "text": [
      "6.4e-07 True 5\n",
      "[ 1.00000078  1.99999999] True 30\n"
     ]
    },
    {
     "data": {
      "image/png": "[encoded data removed]",
      "text/plain": [
       "<matplotlib.figure.Figure at 0x18b7343be10>"
      ]
     },
     "metadata": {},
     "output_type": "display_data"
    }
   ],
   "source": [
    "#problem 5\n",
    "# modifying the backtracking newton method first\n",
    "def md_newton_bt(f, f_prime, x0, tol = 1e-5, maxiter = 15, alpha = 1):\n",
    "    if np.isscalar(x0):\n",
    "        return d1_newton_bt(f, f_prime, x0, tol = tol, maxiter = maxiter, alpha = alpha)\n",
    "    for k in range(maxiter):\n",
    "        indicator = False\n",
    "        y = la.solve(f_prime(x0), f(x0))\n",
    "        x1 = x0 - alpha*y\n",
    "        if la.norm(x1 - x0) < tol:\n",
    "            indicator = True\n",
    "            break\n",
    "        x0 = x1\n",
    "    return x1, indicator, k\n",
    "# testing on 1-d case\n",
    "x5_bar_bt, convergence5_bt, numiter5_bt = md_newton_bt(f3, f3_p, x0, alpha = .4)\n",
    "print(x5_bar_bt, convergence5_bt, numiter5_bt)\n",
    "# testing on multiple dimensional case\n",
    "def f5 (xvec):\n",
    "    y = np.zeros_like(xvec)\n",
    "    y[0] = (xvec[0] - 1)**2 + (xvec[1] - 2)**2\n",
    "    y[1] = (xvec[0] - 1)**3 + (xvec[1] - 2)**4\n",
    "    return y\n",
    "\n",
    "def f5_p (xvec):\n",
    "    y = np.zeros((2,2))\n",
    "    y[0,0] = 2*(xvec[0] - 1)\n",
    "    y[0,1] = 2*(xvec[1] - 2)\n",
    "    y[1, 0] = 3*(xvec[0] - 1)**2\n",
    "    y[1, 1] = 4*(xvec[1] - 2)**3\n",
    "    return y\n",
    "xvec0 = np.array([1.05, 1.95])\n",
    "x5_bar_bt, convergence5_bt, numiter5_bt = md_newton_bt(f5, f5_p, xvec0, tol = 1e-6, maxiter = 5000, alpha = 1)\n",
    "print(x5_bar_bt, convergence5_bt, numiter5_bt)\n",
    "# we also need to modify the problem 4 equation\n",
    "def md_opt_alpha(f, f_prime, x0, alphavec, tol = 1e-5, maxiter = 15):\n",
    "    results = np.zeros_like(alphavec)\n",
    "    if np.isscalar(x0):\n",
    "        for i, alpha in enumerate(alphavec):\n",
    "            results[i] = d1_newton_bt(f, f_prime, x0, maxiter= maxiter, alpha = alpha)[2]\n",
    "    else:\n",
    "        for i, alpha in enumerate(alphavec):\n",
    "            results[i] = md_newton_bt(f, f_prime, x0, maxiter= maxiter, alpha = alpha)[2]\n",
    "    \n",
    "    return results\n",
    "# testing on this \n",
    "alphavec = np.linspace(1e-5, 1, 100)\n",
    "#alpha_comparison_1d =  opt_alpha(f3, f3_p, x0, alphavec, maxiter = 2000)\n",
    "alpha_comparison_md =  md_opt_alpha(f5, f5_p, xvec0, alphavec, tol = 1e-10, maxiter = 2000)\n",
    "\n",
    "# plotting\n",
    "alpha_compare_fig = plt.figure()\n",
    "#plt.plot(alphavec[1:], alpha_comparison_1d[1:], \"k\")\n",
    "plt.plot(alphavec[1:], alpha_comparison_md[1:], \"r\")\n",
    "plt.ylabel(\"Numer of iterations to converge\")\n",
    "plt.xlabel(\"Alpha value\")\n",
    "plt.show()"
   ]
  },
  {
   "cell_type": "code",
   "execution_count": 9,
   "metadata": {
    "collapsed": false
   },
   "outputs": [
    {
     "name": "stdout",
     "output_type": "stream",
     "text": [
      "We find it!\n",
      "Initial value should be:  [-0.25       0.2042042]\n"
     ]
    },
    {
     "data": {
      "text/plain": [
       "array([-0.25     ,  0.2042042])"
      ]
     },
     "execution_count": 9,
     "metadata": {},
     "output_type": "execute_result"
    }
   ],
   "source": [
    "#problem 6\n",
    "# we initialize parameters first\n",
    "Lambda = 5\n",
    "Delta  = 1\n",
    "\n",
    "def f6 (xvec):\n",
    "    y = np.zeros_like(xvec)\n",
    "    y[0] = Lambda*xvec[0]*xvec[1] - xvec[0]*(1 + xvec[1])\n",
    "    y[1] = -xvec[0]*xvec[1] + (Delta - xvec[1])*(1 + xvec[1])\n",
    "    return y\n",
    "\n",
    "def f6_p (xvec):\n",
    "    y = np.zeros((2,2))\n",
    "    y[0,0] = Lambda*xvec[1] - (1 + xvec[1])\n",
    "    y[0,1] = Lambda*xvec[0] - xvec[0]\n",
    "    y[1, 0] = -xvec[1]\n",
    "    y[1, 1] = -xvec[0] - 2*xvec[1] + Delta - 1\n",
    "    return y\n",
    "\n",
    "# we will now write a function to find the initial point\n",
    "def init_finder (f, f_p, target1, target2, target3):\n",
    "    xvec = np.linspace(-0.25, 0, 1000)\n",
    "    yvec = np.linspace(0, 4, 1000)\n",
    "    indicator = False\n",
    "    for i, x in enumerate(xvec):\n",
    "        for j, y in enumerate(yvec):\n",
    "            vec = np.array([x, y])\n",
    "            root1 = md_newton_bt(f, f_p, vec, tol = 1e-10, maxiter = 500, alpha = 1)[0]\n",
    "            root2 = md_newton_bt(f, f_p, vec, tol = 1e-10, maxiter = 500, alpha = 0.55)[0]\n",
    "            if la.norm(root1 - target1) < 1e-10 or la.norm(root1 - target2) < 1e-10:\n",
    "                if la.norm(root2 - target3) < 1e-10:\n",
    "                    print(\"We find it!\")\n",
    "                    print(\"Initial value should be: \", vec)\n",
    "                    indicator = True\n",
    "                    return vec\n",
    "                    break\n",
    "    if indicator == False:\n",
    "        print(\"Oops, we couldn't find it\")\n",
    "    return indicator\n",
    "\n",
    "target1 = np.array([0, 1])\n",
    "target2 = np.array([0, -1])\n",
    "target3 = np.array([3.75, 0.25])\n",
    "\n",
    "init_finder(f6, f6_p, target1, target2, target3 )\n",
    "# we define the function next\n"
   ]
  },
  {
   "cell_type": "code",
   "execution_count": 74,
   "metadata": {
    "collapsed": false
   },
   "outputs": [
    {
     "data": {
      "image/png": "[encoded data removed]",
      "text/plain": [
       "<matplotlib.figure.Figure at 0x18b735c8748>"
      ]
     },
     "metadata": {},
     "output_type": "display_data"
    },
    {
     "data": {
      "image/png": "[encoded data removed]",
      "text/plain": [
       "<matplotlib.figure.Figure at 0x18b735ddcc0>"
      ]
     },
     "metadata": {},
     "output_type": "display_data"
    }
   ],
   "source": [
    "#problem 7\n",
    "rmin, rmax, imin, imax = -1.5, 1.5, -1.5, 1.5\n",
    "res = 500\n",
    "iters = 100\n",
    "f7 = lambda x: x**3 - 1\n",
    "Df7 = lambda x: 3*x**2\n",
    "f8 = lambda x: x**3 - x\n",
    "Df8 = lambda x: 3*x**2 - 1\n",
    "def basin_attract (f, f_prime, rmin, rmax, imin, imax, res, iters):\n",
    "    #construct the grid\n",
    "    x_real = np.linspace(rmin, rmax, res)\n",
    "    x_imag = np.linspace(imin, imax, res)\n",
    "    X_real, X_imag = np.meshgrid(x_real, x_imag)\n",
    "    X_0 = X_real + 1j*X_imag\n",
    "    for k in range(iters):\n",
    "        X_1 = X_0 - f(X_0)/f_prime(X_0)\n",
    "        X_0 = X_1 # for the last iteration, updated meshgrid will be stored int X_0\n",
    "    X_bar = np.round(X_0, 8)\n",
    "    roots = np.unique(X_bar)\n",
    "    Y = np.zeros((res, res))\n",
    "    for i in range(res):\n",
    "        for j in range(res):\n",
    "            Y[i, j] = np.where(roots == X_bar[i, j])[0]\n",
    "    #plotting\n",
    "    fig = plt.figure()\n",
    "    plt.pcolormesh(Y, cmap = \"brg\")\n",
    "    plt.show()\n",
    "    \n",
    "    return Y\n",
    "\n",
    "test1 = basin_attract (f7, Df7, rmin, rmax, imin, imax, res, iters)\n",
    "test2 = basin_attract (f8, Df8, rmin, rmax, imin, imax, res, iters)\n",
    "\n"
   ]
  },
  {
   "cell_type": "code",
   "execution_count": null,
   "metadata": {
    "collapsed": false
   },
   "outputs": [],
   "source": []
  },
  {
   "cell_type": "code",
   "execution_count": null,
   "metadata": {
    "collapsed": false
   },
   "outputs": [],
   "source": []
  },
  {
   "cell_type": "code",
   "execution_count": null,
   "metadata": {
    "collapsed": true
   },
   "outputs": [],
   "source": []
  }
 ],
 "metadata": {
  "kernelspec": {
   "display_name": "Python 3",
   "language": "python",
   "name": "python3"
  },
  "language_info": {
   "codemirror_mode": {
    "name": "ipython",
    "version": 3
   },
   "file_extension": ".py",
   "mimetype": "text/x-python",
   "name": "python",
   "nbconvert_exporter": "python",
   "pygments_lexer": "ipython3",
   "version": "3.6.0"
  }
 },
 "nbformat": 4,
 "nbformat_minor": 2
}
