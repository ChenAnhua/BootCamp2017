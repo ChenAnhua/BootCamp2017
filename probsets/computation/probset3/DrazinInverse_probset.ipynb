{
 "cells": [
  {
   "cell_type": "code",
   "execution_count": 113,
   "metadata": {
    "collapsed": true
   },
   "outputs": [],
   "source": [
    "import numpy as np\n",
    "import scipy as sp\n",
    "from scipy import linalg as la\n",
    "from matplotlib import pyplot as plt\n",
    "import cmath"
   ]
  },
  {
   "cell_type": "code",
   "execution_count": 114,
   "metadata": {
    "collapsed": false
   },
   "outputs": [
    {
     "name": "stdout",
     "output_type": "stream",
     "text": [
      "True\n",
      "True\n"
     ]
    }
   ],
   "source": [
    "#problem 1\n",
    "def drazin_test(A, A_d, k):\n",
    "    A = np.array(A, dtype = np.float)\n",
    "    A_d = np.array(A_d, dtype = np.float)\n",
    "    result = np.allclose([(A@A_d), (np.linalg.matrix_power(A, k+1)@A_d), (A_d@A@A_d)], [(A_d@A), (np.linalg.matrix_power(A, k)), (A_d)])\n",
    "    return result\n",
    "#test it\n",
    "A = [[1,3,0,0], [0,1,3,0],[0,0,1,3],[0,0,0,0]]\n",
    "A_d = [[1,-3,9,81],[0,1,-3,-18],[0,0,1,3],[0,0,0,0]]\n",
    "k = 1\n",
    "print(drazin_test(A, A_d, k))\n",
    "B = [[1,1,3],[5,2,6],[-2,-1,-3]]\n",
    "B_d = [[0,0,0],[0,0,0],[0,0,0]]\n",
    "k = 3\n",
    "print(drazin_test(B,B_d, k))\n"
   ]
  },
  {
   "cell_type": "code",
   "execution_count": 115,
   "metadata": {
    "collapsed": true
   },
   "outputs": [],
   "source": [
    "def index(A, tol=1e-5):\n",
    "    \"\"\"Compute the index of the matrix A.\n",
    "\n",
    "    Parameters:\n",
    "        A ((n,n) ndarray): An nxn matrix.\n",
    "\n",
    "    Returns:\n",
    "        k (int): The index of A.\n",
    "    \"\"\"\n",
    "\n",
    "    # test for non-singularity\n",
    "    if not np.allclose(la.det(A),0):\n",
    "        return 0\n",
    "\n",
    "    n = len(A)\n",
    "    k = 1\n",
    "    Ak = A.copy()\n",
    "    while k <= n:\n",
    "        r1 = np.linalg.matrix_rank(Ak)\n",
    "        r2 = np.linalg.matrix_rank(np.dot(A,Ak))\n",
    "        if r1 == r2:\n",
    "            return k\n",
    "        Ak = np.dot(A,Ak)\n",
    "        k += 1\n",
    "\n",
    "    return k\n"
   ]
  },
  {
   "cell_type": "code",
   "execution_count": 116,
   "metadata": {
    "collapsed": false
   },
   "outputs": [
    {
     "data": {
      "text/plain": [
       "True"
      ]
     },
     "execution_count": 116,
     "metadata": {},
     "output_type": "execute_result"
    }
   ],
   "source": [
    "#problem 2\n",
    "def DRAZIN(A, tol):\n",
    "    A = np.array(A, dtype = np.float)\n",
    "    n = A.shape[0]\n",
    "    f1 = lambda x: abs(x) > tol\n",
    "    f2 = lambda x: abs(x) <= tol\n",
    "    Q1, S, k1 = la.schur(A, sort = f1)\n",
    "    Q2, T, k2 = la.schur(A, sort = f2)\n",
    "    U = np.column_stack((S[:, :k1], T[:, :(n-k1)]))\n",
    "    U_inv = np.linalg.inv(U)\n",
    "    V = U_inv @ A @ U\n",
    "    Z =np.zeros_like(A, dtype = np.float)\n",
    "    if k1 != 0:\n",
    "        M_inv = np.linalg.inv(V[:k1, :k1])\n",
    "        Z[:k1, :k1] = M_inv\n",
    "    return (U @ Z @ U_inv)\n",
    "# test case the function\n",
    "A = np.random.random((9,9))\n",
    "k = index(A, 1e-8)\n",
    "A_d = DRAZIN(A,1e-8)\n",
    "drazin_test(A, A_d, k)"
   ]
  },
  {
   "cell_type": "code",
   "execution_count": 117,
   "metadata": {
    "collapsed": false
   },
   "outputs": [],
   "source": [
    "# problem 3\n",
    "def effective_resistance(A):\n",
    "    A = np.array(A)\n",
    "    n = A.shape[0]\n",
    "    D = np.diag(np.sum(A, axis = 1)) # we need to calculate the Degree Matrix first\n",
    "    L = D - A # create the Laplacian matrix\n",
    "    R = np.zeros_like(L,dtype=np.float)\n",
    "    I  = np.identity(n)\n",
    "    for j in range(n):\n",
    "        L_j = np.copy(L)\n",
    "        L_j[j, :] = I[j, :]\n",
    "        L_jd = DRAZIN(L_j, 1e-8)\n",
    "        R[:, j] = np.diag(L_jd)\n",
    "    np.fill_diagonal(R, 0)\n",
    "    return R\n",
    "    "
   ]
  },
  {
   "cell_type": "code",
   "execution_count": 119,
   "metadata": {
    "collapsed": false
   },
   "outputs": [
    {
     "name": "stdout",
     "output_type": "stream",
     "text": [
      "[[ 0.  3.  1.  2.]\n",
      " [ 3.  0.  2.  1.]\n",
      " [ 1.  2.  0.  1.]\n",
      " [ 2.  1.  1.  0.]]\n",
      "[[ 0.          0.66666667  0.66666667]\n",
      " [ 0.66666667  0.          0.66666667]\n",
      " [ 0.66666667  0.66666667  0.        ]]\n",
      "[[ 0.   0.5]\n",
      " [ 0.5  0. ]]\n"
     ]
    }
   ],
   "source": [
    "A1 = [[0, 0, 1, 0],[0, 0, 0, 1],[1, 0, 0, 1],[0, 1, 1, 0]]\n",
    "R1 = effective_resistance(A1)\n",
    "print(R1)\n",
    "A2 = [[0, 1, 1],[1, 0, 1], [1, 1, 0]]\n",
    "R2 = effective_resistance(A2)\n",
    "print(R2)\n",
    "A3 = [[0, 2], [2,0]]\n",
    "R3 = effective_resistance(A3)\n",
    "print(R3)\n"
   ]
  },
  {
   "cell_type": "code",
   "execution_count": 112,
   "metadata": {
    "collapsed": false
   },
   "outputs": [
    {
     "name": "stdout",
     "output_type": "stream",
     "text": [
      "Once deleted, variables cannot be recovered. Proceed (y/[n])? y\n"
     ]
    }
   ],
   "source": [
    "%reset"
   ]
  },
  {
   "cell_type": "code",
   "execution_count": null,
   "metadata": {
    "collapsed": false
   },
   "outputs": [],
   "source": []
  },
  {
   "cell_type": "code",
   "execution_count": null,
   "metadata": {
    "collapsed": true
   },
   "outputs": [],
   "source": []
  }
 ],
 "metadata": {
  "kernelspec": {
   "display_name": "Python 3",
   "language": "python",
   "name": "python3"
  },
  "language_info": {
   "codemirror_mode": {
    "name": "ipython",
    "version": 3
   },
   "file_extension": ".py",
   "mimetype": "text/x-python",
   "name": "python",
   "nbconvert_exporter": "python",
   "pygments_lexer": "ipython3",
   "version": "3.6.0"
  }
 },
 "nbformat": 4,
 "nbformat_minor": 2
}
