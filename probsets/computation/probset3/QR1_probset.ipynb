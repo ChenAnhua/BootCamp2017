{
 "cells": [
  {
   "cell_type": "code",
   "execution_count": 32,
   "metadata": {
    "collapsed": true
   },
   "outputs": [],
   "source": [
    "import numpy as np\n",
    "import scipy as sp\n",
    "from scipy import linalg as la"
   ]
  },
  {
   "cell_type": "code",
   "execution_count": 37,
   "metadata": {
    "collapsed": false
   },
   "outputs": [
    {
     "name": "stdout",
     "output_type": "stream",
     "text": [
      "My QR decomposition: \n",
      "\n",
      "[[ 0.24093536  0.61202441  0.02346863 -0.71133947]\n",
      " [ 0.09727839  0.00100841  0.42050428  0.16264952]\n",
      " [ 0.49727604  0.26074916  0.52198411  0.20342189]\n",
      " [ 0.68649419 -0.06220147 -0.66485311  0.14322924]\n",
      " [ 0.46000868 -0.56100303  0.32842057 -0.1600406 ]\n",
      " [ 0.04818047  0.48871419 -0.01637816  0.61646835]] [[ 0.90392545  0.89772103  0.97801858  0.57726272]\n",
      " [ 0.          0.6968521  -0.04355249  0.54389614]\n",
      " [ 0.          0.          0.9286017   0.60635618]\n",
      " [ 0.          0.          0.          0.35346835]]\n",
      "Scipy's QR decomposition: \n",
      "\n",
      "[[-0.24093536  0.61202441 -0.02346863  0.71133947]\n",
      " [-0.09727839  0.00100841 -0.42050428 -0.16264952]\n",
      " [-0.49727604  0.26074916 -0.52198411 -0.20342189]\n",
      " [-0.68649419 -0.06220147  0.66485311 -0.14322924]\n",
      " [-0.46000868 -0.56100303 -0.32842057  0.1600406 ]\n",
      " [-0.04818047  0.48871419  0.01637816 -0.61646835]] [[-0.90392545 -0.89772103 -0.97801858 -0.57726272]\n",
      " [ 0.          0.6968521  -0.04355249  0.54389614]\n",
      " [ 0.          0.         -0.9286017  -0.60635618]\n",
      " [ 0.          0.          0.         -0.35346835]]\n",
      "The results might be different since QR decomposition is not unique\n",
      "(6, 4) (6, 4) (4, 4)\n",
      "True\n",
      "True\n",
      "True\n"
     ]
    }
   ],
   "source": [
    "#Problem 1\n",
    "def modified_GS (A):\n",
    "    A = np.array(A)\n",
    "    m , n = A.shape\n",
    "    Q = np.copy(A)\n",
    "    R = np.zeros((n, n))\n",
    "    for i in np.arange(n):\n",
    "        R[i, i] = la.norm(Q[:, i])\n",
    "        Q[:, i] = Q[:, i]*(1/R[i, i])\n",
    "        for j in np.arange((i+1), n):\n",
    "            R[i, j] = np.dot(np.transpose(Q[:, j]),Q[:, i])\n",
    "            Q[:, j] = Q[:, j] - R[i, j]*Q[:, i]\n",
    "    return Q, R\n",
    "    \n",
    "\n",
    "A = np.random.random((6,4))\n",
    "# my function\n",
    "Q_my, R_my = modified_GS(A)\n",
    "print(\"My QR decomposition: \\n\")\n",
    "print(Q_my, R_my)\n",
    "#scipy's function\n",
    "Q_sp,R_sp = la.qr(A, mode=\"economic\")\n",
    "print(\"Scipy's QR decomposition: \\n\")\n",
    "print(Q_sp, R_sp)\n",
    "print(\"The results might be different since QR decomposition is not unique\")\n",
    "print (A.shape, Q_my.shape, R_my.shape)\n",
    "print(np.allclose(np.triu(R_my), R_my))\n",
    "print(np.allclose(np.dot(Q_my.T, Q_my), np.identity(4)))\n",
    "print(np.allclose(np.dot(Q_my, R_my), A))"
   ]
  },
  {
   "cell_type": "code",
   "execution_count": 48,
   "metadata": {
    "collapsed": false
   },
   "outputs": [
    {
     "name": "stdout",
     "output_type": "stream",
     "text": [
      "0.0653196955092\n"
     ]
    }
   ],
   "source": [
    "#Problem 2\n",
    "M_init = np.random.random((2,2))\n",
    "QRdet = lambda M: abs(np.diag(modified_GS(M)[1]).prod())\n",
    "print(QRdet(M_init))"
   ]
  },
  {
   "cell_type": "code",
   "execution_count": 55,
   "metadata": {
    "collapsed": false
   },
   "outputs": [
    {
     "data": {
      "text/plain": [
       "array([-1,  3])"
      ]
     },
     "execution_count": 55,
     "metadata": {},
     "output_type": "execute_result"
    }
   ],
   "source": [
    "#problem 3\n",
    "def QRlin_sol(A, b):\n",
    "    A = np.array(A)\n",
    "    b = np.array(b)\n",
    "    n = A.shape[0]\n",
    "    Q, R = modified_GS(A)\n",
    "    y = np.transpose(Q)@b\n",
    "    x = np.zeros_like(b)\n",
    "    for i in np.arange(n)[::-1]:\n",
    "        x[i] = (1/R[i, i])*(y[i] - np.transpose(x)@R[i, :])\n",
    "    return x\n",
    "\n",
    "#testing on my function\n",
    "A = [[1, 1], [0, 1]]\n",
    "b = [2, 3]\n",
    "QRlin_sol(A, b)"
   ]
  },
  {
   "cell_type": "code",
   "execution_count": 60,
   "metadata": {
    "collapsed": false
   },
   "outputs": [
    {
     "name": "stdout",
     "output_type": "stream",
     "text": [
      "(5, 3) (5, 5) (5, 3)\n"
     ]
    },
    {
     "data": {
      "text/plain": [
       "True"
      ]
     },
     "execution_count": 60,
     "metadata": {},
     "output_type": "execute_result"
    }
   ],
   "source": [
    "#problem 4\n",
    "def householderQR (A):\n",
    "    A = np.array(A)\n",
    "    m, n = A.shape\n",
    "    R = np.copy(A)\n",
    "    Q = np.identity(m)\n",
    "    sign = lambda x: 1 if x >= 0 else -1\n",
    "    for k in range(n):\n",
    "        u = np.copy(R[k:, k])\n",
    "        u[0] = u[0] + sign(u[0])*la.norm(u)\n",
    "        u  = u*(1/la.norm(u))\n",
    "        R[k:, k:] = R[k:, k:] - 2*np.outer(u, np.dot(u, R[k:, k:]))\n",
    "        Q[k:, :] = Q[k:, :] - 2*np.outer(u, np.dot(u, Q[k:, :]))\n",
    "        \n",
    "    return np.transpose(Q), R\n",
    "# testing on the funciton of household transformation\n",
    "A = np.random.random((5, 3))\n",
    "Q, R = householderQR(A)\n",
    "print(A.shape, Q.shape, R.shape)\n",
    "np.allclose(np.dot(Q, R), A)"
   ]
  },
  {
   "cell_type": "code",
   "execution_count": 61,
   "metadata": {
    "collapsed": false
   },
   "outputs": [
    {
     "name": "stdout",
     "output_type": "stream",
     "text": [
      "True\n",
      "True\n",
      "True\n",
      "True\n"
     ]
    }
   ],
   "source": [
    "# problem 5\n",
    "def hessenberg(A):\n",
    "    m, n  = A.shape\n",
    "    H = np.copy(A)\n",
    "    Q = np.identity(m)\n",
    "    sign = lambda x: 1 if x >= 0 else -1\n",
    "    for k in np.arange(n-2):\n",
    "        u = np.copy(H[(k+1):, k])\n",
    "        u[0] = u[0] + sign(u[0])*la.norm(u)\n",
    "        u  = u*(1/la.norm(u))\n",
    "        H[(k+1):,k: ] = H[(k+1):,k: ] - 2*np.outer(u, np.dot(u, H[(k+1):,k: ]))\n",
    "        H[:, (k+1):] = H[:, (k+1):] - 2*np.outer(np.dot(H[:, (k+1):] , u), u)\n",
    "        Q[(k+1):, :] = Q[(k+1):, :] -2*np.outer(u, np.dot(u, Q[(k+1):, :]))\n",
    "    \n",
    "    return H, np.transpose(Q)\n",
    "\n",
    "A = np.random.random((8,8))\n",
    "H_my, Q_my = hessenberg(A)\n",
    "H, Q = la.hessenberg(A, calc_q=True)\n",
    "\n",
    "print(np.allclose(np.triu(H, -1), H))\n",
    "print(np.allclose(np.dot(np.dot(Q, H), Q.T), A))\n",
    "\n",
    "print(np.allclose(np.triu(H_my, -1), H_my))\n",
    "print(np.allclose(np.dot(np.dot(Q_my, H_my), Q_my.T), A))\n",
    "\n",
    "\n",
    "        "
   ]
  },
  {
   "cell_type": "code",
   "execution_count": null,
   "metadata": {
    "collapsed": true
   },
   "outputs": [],
   "source": []
  }
 ],
 "metadata": {
  "kernelspec": {
   "display_name": "Python 3",
   "language": "python",
   "name": "python3"
  },
  "language_info": {
   "codemirror_mode": {
    "name": "ipython",
    "version": 3
   },
   "file_extension": ".py",
   "mimetype": "text/x-python",
   "name": "python",
   "nbconvert_exporter": "python",
   "pygments_lexer": "ipython3",
   "version": "3.6.0"
  }
 },
 "nbformat": 4,
 "nbformat_minor": 2
}
