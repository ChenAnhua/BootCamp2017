{
 "cells": [
  {
   "cell_type": "markdown",
   "metadata": {},
   "source": [
    "# Approximating Autoregressive Processes\n",
    "### by [Jason DeBacker](http://jasondebacker.com), July 2017\n",
    "This Jupyter notebook was written using Python 3.6. To execute all the code here, one will need a the Python script `ar1_approx.py` to be located in a directory with the relative path `..\\Code\\`.\n",
    "\n",
    "Consider the AR(1) process given by:\n",
    "\n",
    "$$ ln(z_{t+1}) = \\rho ln(z_{t}) + (1-\\rho)\\mu + \\varepsilon_{t}, $$\n",
    "\n",
    "where $\\varepsilon_{t}\\sim N(0,\\sigma_{\\varepsilon})$.  \n",
    "\n",
    "With such a process, $z$ can take on any value on the real line.  The distribution of $z$ looks like:"
   ]
  },
  {
   "cell_type": "code",
<<<<<<< HEAD
   "execution_count": 3,
=======
   "execution_count": 2,
>>>>>>> upstream/master
   "metadata": {
    "collapsed": false
   },
   "outputs": [
    {
<<<<<<< HEAD
     "name": "stderr",
     "output_type": "stream",
     "text": [
      "C:\\Users\\Lenovo\\Anaconda3\\lib\\site-packages\\statsmodels\\nonparametric\\kdetools.py:20: VisibleDeprecationWarning: using a non-integer number instead of an integer will result in an error in the future\n",
      "  y = X[:m/2+1] + np.r_[0,X[m/2+1:],0]*1j\n"
     ]
    },
    {
     "data": {
      "text/plain": [
       "<matplotlib.axes._subplots.AxesSubplot at 0x235e9090b70>"
      ]
     },
     "execution_count": 3,
=======
     "data": {
      "text/plain": [
       "<matplotlib.axes._subplots.AxesSubplot at 0x1161241d0>"
      ]
     },
     "execution_count": 2,
>>>>>>> upstream/master
     "metadata": {},
     "output_type": "execute_result"
    },
    {
     "data": {
<<<<<<< HEAD
      "image/png": "iVBORw0KGgoAAAANSUhEUgAAAXIAAAD3CAYAAAAALt/WAAAABHNCSVQICAgIfAhkiAAAAAlwSFlz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\n",
      "text/plain": [
       "<matplotlib.figure.Figure at 0x235e8f18550>"
=======
      "image/png": "iVBORw0KGgoAAAANSUhEUgAAAXIAAAD3CAYAAAAALt/WAAAABHNCSVQICAgIfAhkiAAAAAlwSFlz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\n0gAAAABJRU5ErkJggg==\n",
      "text/plain": [
       "<matplotlib.figure.Figure at 0x10e86e400>"
>>>>>>> upstream/master
      ]
     },
     "metadata": {},
     "output_type": "display_data"
    }
   ],
   "source": [
    "# import packages\n",
    "import matplotlib.pyplot as plt\n",
    "import seaborn as sns\n",
    "import numpy as np\n",
    "\n",
    "# to print plots inline\n",
    "%matplotlib inline\n",
    "\n",
    "# set our parameters\n",
    "rho = 0.8\n",
    "mu = 0.0\n",
    "sigma_eps = 0.2\n",
    "\n",
    "# draw our shocks\n",
    "num_draws = 100000 # number of shocks to draw\n",
    "eps = np.random.normal(0.0, sigma_eps, size=(num_draws))\n",
    "\n",
    "# Compute z\n",
    "z = np.empty(num_draws)\n",
    "z[0] = 0.0 + eps[0]\n",
    "for i in range(1, num_draws):\n",
    "    z[i] = rho * z[i - 1] + (1 - rho) * mu + eps[i]\n",
    "    \n",
    "\n",
    "# plot distribution of z\n",
    "# sns.distplot(z, hist=False)\n",
    "sns.kdeplot(np.array(z), bw=0.5)"
   ]
  },
  {
   "cell_type": "markdown",
   "metadata": {},
   "source": [
    "The distribution of $z$ should have variance = $\\sigma_{z}^{2} = \\frac{\\sigma_{\\epsilon}^{2}}{(1-\\rho)}$.  Let's check: "
   ]
  },
  {
   "cell_type": "code",
<<<<<<< HEAD
   "execution_count": 4,
=======
   "execution_count": 3,
>>>>>>> upstream/master
   "metadata": {
    "collapsed": false
   },
   "outputs": [
    {
     "name": "stdout",
     "output_type": "stream",
     "text": [
      "Theoretical sigma_z =  0.3333333333333334\n",
<<<<<<< HEAD
      "Simulated sigma_z =  0.33425098989\n"
=======
      "Simulated sigma_z =  0.332545794167\n"
>>>>>>> upstream/master
     ]
    }
   ],
   "source": [
    "# theory says:\n",
    "sigma_z = sigma_eps / ((1 - rho ** 2) ** (1 / 2))\n",
    "print('Theoretical sigma_z = ', sigma_z)\n",
    "\n",
    "# from our simulation:\n",
    "sigma_z_simul = z.std()\n",
    "print('Simulated sigma_z = ', sigma_z_simul)"
   ]
  },
  {
   "cell_type": "markdown",
   "metadata": {},
   "source": [
    "Pretty close.  And it will get closer as you increae `N`.  \n",
    "\n",
    "For the computational solution to our dynamic programming problem, we'll want to approximate this continuous distribution with something over a finite grid.  There are a number of methods to do this (see Adda and Cooper (2003, pp. 56-59), Tauchen and Hussey (1991), and Rouwenhorst (1995) for some approaches).  What all of these approaches have in common is that they approximate the autoregressive process with a Markov process (technically a Markov chain, since it's over a finite grid). Generally, the approach is to divide the real line over which $z$ is defined into a finite set of intervals.  These approaches then compute the probabilities of transitioning between one interval and another to match the autoregressive processs.\n",
    "\n",
    "## 1. Adda-Cooper (2003) method\n",
    "\n",
    "Let us illustrate the general approach of these approximation methods through the Adda and Cooper (2003, pp. 56-59) (henceforth AC) method.  \n",
    "\n",
    "AC start by dividing the real line into intervals.  In particular, they divide the real line into intervals such that $z_{t}$ has an equal probability of falling into any of the intervals.  Since $\\varepsilon$ is distributed normally, the cut-off points given by $\\left\\{z^{i}\\right\\}_{i=0}^{N}$ for these intervals are defined by:\n",
    "\n",
    "$$ \\Phi\\left(\\frac{z^{i+1}-\\mu}{\\sigma_{z}}\\right) - \\Phi\\left(\\frac{z^{i}-\\mu}{\\sigma_{z}}\\right) = \\frac{1}{N}, $$\n",
    "\n",
    "where $N$ are the number of grid points in our discretized grid space and $\\Phi(\\cdot)$ is the cumulative density function of the standard normal distribution.  Solving this recursively we find that each cut-off point is given by:\n",
    "\n",
    "$$ z^{i} = \\sigma_{z} \\Phi^{-1}\\left(\\frac{i-1}{N}\\right) + \\mu $$ "
   ]
  },
  {
   "cell_type": "code",
<<<<<<< HEAD
   "execution_count": 5,
=======
   "execution_count": 4,
>>>>>>> upstream/master
   "metadata": {
    "collapsed": false
   },
   "outputs": [
    {
     "name": "stdout",
     "output_type": "stream",
     "text": [
      "Cut-off values =  [       -inf -0.28054041 -0.08444903  0.08444903  0.28054041         inf]\n"
     ]
    }
   ],
   "source": [
    "# import packages\n",
    "from scipy.stats import norm\n",
    "\n",
    "# Compute cut-off values\n",
    "N = 5  # number of grid points (will have one more cut-off point than this)\n",
    "z_cutoffs = (sigma_z * norm.ppf(np.arange(N + 1) / N)) + mu\n",
    "print('Cut-off values = ', z_cutoffs)"
   ]
  },
  {
   "cell_type": "markdown",
   "metadata": {},
   "source": [
    "Now that we've defined the intervals through these cut-off values, we'll next want to compute the average value of $z$ in each of these intervals.  These values will be our grid points.  Let $z_{p}^{i}$ be grid point $i$ and define $z_{p}^{i}$ as the mean value of $z_{t}$ conditional on $z_{t}\\in\\left[z^{i},z^{i+1}\\right]$.  That is:\n",
    "\n",
    "$$ z_{p}^{i} = E\\left(z_{t}|z_{t}\\in \\left[z^{i},z^{i+1}\\right] \\right) = \\sigma_{z} \\frac{\\phi((z^{i}-\\mu)/\\sigma_z) - \\phi((z^{i+1}-\\mu)/\\sigma_z)}{\\Phi((z^{i+1}-\\mu)/\\sigma_z) - \\Phi((z^{i}-\\mu)/\\sigma_z)} + \\mu $$\n",
    "\n",
    "Simplifying:\n",
    "\n",
    "$$ z_{p}^{i} = N \\sigma_z \\left(\\phi\\left(\\frac{z^{i}-\\mu}{\\sigma_z}\\right) - \\phi\\left(\\frac{z^{i+1}-\\mu}{\\sigma_z}\\right) \\right) + \\mu $$"
   ]
  },
  {
   "cell_type": "code",
<<<<<<< HEAD
   "execution_count": 6,
=======
   "execution_count": 5,
>>>>>>> upstream/master
   "metadata": {
    "collapsed": false
   },
   "outputs": [
    {
     "name": "stdout",
     "output_type": "stream",
     "text": [
      "Grid points =  [-0.4666032  -0.17730102  0.          0.17730102  0.4666032 ]\n"
     ]
    }
   ],
   "source": [
    "# compute grid points for z\n",
    "z_grid = ((N * sigma_z * (norm.pdf((z_cutoffs[:-1] - mu) / sigma_z)\n",
    "                              - norm.pdf((z_cutoffs[1:] - mu) / sigma_z)))\n",
    "              + mu)\n",
    "print('Grid points = ', z_grid)"
   ]
  },
  {
   "cell_type": "markdown",
   "metadata": {},
   "source": [
    "Now we have our grid points.  Next, we need to determine the transitions between these grid points.  We want these transition probabilities to be such they they match the autocorrelation in the AR(1) process we are modeling using a first over Markov process.\n",
    "\n",
    "Define the probability of transitioning between grid point i and grid point j as: \n",
    "\n",
    "$$ \\pi_{i,j} = P\\left( z_{t} \\in \\left[z^{j},z^{j+1} \\right] | z_{t-1} \\in \\left[z^{i},z^{i+1} \\right] \\right) $$\n",
    "\n",
    "Using the fact that $\\varepsilon \\sim N(0,\\sigma_{\\varepsilon})$, we have:\n",
    "\n",
    "$$ \\pi_{i,j} = \\frac{N}{\\sqrt{2\\pi\\sigma_{z}^{2}}} \\int_{z^{i}}^{z^{i+1}} e^{-(\\varepsilon - \\mu)^{2}/(2\\sigma_{z}^{2})} \\left[ \\Phi\\left(\\frac{z^{j+1} - \\mu(1-\\rho) - \\rho\\mu}{\\sigma_{\\varepsilon}}\\right) - \\Phi\\left(\\frac{z^{j} - \\mu(1-\\rho) - \\rho\\mu}{\\sigma_{\\varepsilon}}\\right) \\right] d\\varepsilon $$\n",
    "\n",
    "To find each $\\pi_{i,j}$, we ned to evaluate this integral.  We'll do so numerically."
   ]
  },
  {
   "cell_type": "code",
<<<<<<< HEAD
   "execution_count": 7,
=======
   "execution_count": 6,
>>>>>>> upstream/master
   "metadata": {
    "collapsed": false
   },
   "outputs": [],
   "source": [
    "# import packages\n",
    "import scipy.integrate as integrate\n",
    "\n",
    "# define function that we will integrate\n",
    "def integrand(x, sigma_z, sigma_eps, rho, mu, z_j, z_jp1):\n",
    "    val = (np.exp((-1 * ((x - mu) ** 2)) / (2 * (sigma_z ** 2)))\n",
    "            * (norm.cdf((z_jp1 - (mu * (1 - rho)) - (rho * x)) / sigma_eps)\n",
    "               - norm.cdf((z_j - (mu * (1 - rho)) - (rho * x)) / sigma_eps)))\n",
    "    \n",
    "    return val\n",
    "\n",
    "# compute transition probabilities\n",
    "pi = np.empty((N, N))\n",
    "for i in range(N):\n",
    "    for j in range(N):\n",
    "        results = integrate.quad(integrand, z_cutoffs[i], z_cutoffs[i + 1],\n",
    "                                 args = (sigma_z, sigma_eps, rho, mu,\n",
    "                                         z_cutoffs[j], z_cutoffs[j + 1]))\n",
    "        pi[i,j] = (N / np.sqrt(2 * np.pi * sigma_z ** 2)) * results[0]\n",
    "        \n",
    "# print('Transition matrix = ', pi)\n",
    "# print('pi sums = ', pi.sum(axis=0), pi.sum(axis=1))"
   ]
  },
  {
   "cell_type": "markdown",
   "metadata": {},
   "source": [
    "We've now found \n",
    "\n",
    "$$ \\pi_{i,j} = P(z_{t}=z_{p}^{j}|z_{t-1}=z_{p}^{i}) $$\n",
    "\n",
    "Let's see how well this Markov process approximates the AR(1) above..."
   ]
  },
  {
   "cell_type": "code",
<<<<<<< HEAD
   "execution_count": 8,
=======
   "execution_count": 7,
>>>>>>> upstream/master
   "metadata": {
    "collapsed": false
   },
   "outputs": [
    {
<<<<<<< HEAD
     "name": "stderr",
     "output_type": "stream",
     "text": [
      "C:\\Users\\Lenovo\\Anaconda3\\lib\\site-packages\\statsmodels\\nonparametric\\kdetools.py:20: VisibleDeprecationWarning: using a non-integer number instead of an integer will result in an error in the future\n",
      "  y = X[:m/2+1] + np.r_[0,X[m/2+1:],0]*1j\n"
     ]
    },
    {
     "data": {
      "text/plain": [
       "<matplotlib.axes._subplots.AxesSubplot at 0x235e8edd898>"
      ]
     },
     "execution_count": 8,
=======
     "data": {
      "text/plain": [
       "<matplotlib.axes._subplots.AxesSubplot at 0x11670b0b8>"
      ]
     },
     "execution_count": 7,
>>>>>>> upstream/master
     "metadata": {},
     "output_type": "execute_result"
    },
    {
     "data": {
<<<<<<< HEAD
      "image/png": "iVBORw0KGgoAAAANSUhEUgAAAW8AAAD3CAYAAADSftWOAAAABHNCSVQICAgIfAhkiAAAAAlwSFlz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\nAAAASUVORK5CYII=\n",
      "text/plain": [
       "<matplotlib.figure.Figure at 0x235e5994eb8>"
=======
      "image/png": "iVBORw0KGgoAAAANSUhEUgAAAW8AAAD3CAYAAADSftWOAAAABHNCSVQICAgIfAhkiAAAAAlwSFlz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\n",
      "text/plain": [
       "<matplotlib.figure.Figure at 0x10886be10>"
>>>>>>> upstream/master
      ]
     },
     "metadata": {},
     "output_type": "display_data"
    }
   ],
   "source": [
    "# Simulate the Markov process - will make this a function so can call later\n",
    "def sim_markov(z_grid, pi, num_draws):\n",
    "    # draw some random numbers on [0, 1]\n",
    "    u = np.random.uniform(size=num_draws)\n",
    "\n",
    "    # Do simulations\n",
    "    z_discrete = np.empty(num_draws)  # this will be a vector of values \n",
    "    # we land on in the discretized grid for z\n",
    "    N = z_grid.shape[0]\n",
    "    oldind = int(np.ceil((N - 1) / 2)) # set initial value to median of grid\n",
    "    z_discrete[0] = z_grid[oldind]  \n",
    "    for i in range(1, num_draws):\n",
    "        sum_p = 0\n",
    "        ind = 0\n",
    "        while sum_p < u[i]:\n",
    "            sum_p = sum_p + pi[ind, oldind]\n",
    "#             print('inds =  ', ind, oldind)\n",
    "            ind += 1\n",
    "        if ind > 0:\n",
    "            ind -= 1\n",
    "        z_discrete[i] = z_grid[ind]\n",
    "        oldind = ind\n",
    "                            \n",
    "    return z_discrete\n",
    "\n",
    "\n",
    "# Call simulation function to get simulated values\n",
    "z_discrete = sim_markov(z_grid, np.transpose(pi), num_draws)\n",
    "                            \n",
    "                            \n",
    "# Plot AR(1) and Markov approximation\n",
    "sns.distplot(z_discrete, hist=True, kde=False, norm_hist=True)\n",
    "sns.kdeplot(np.array(z), bw=0.5)"
   ]
  },
  {
   "cell_type": "markdown",
   "metadata": {},
   "source": [
    " ## 2.  Comparing methods\n",
    "    \n",
    "Working through the Adda-Cooper method was illustrative of how these approximations work.  Now let's compare across a few methods.  "
   ]
  },
  {
   "cell_type": "code",
<<<<<<< HEAD
   "execution_count": 9,
=======
   "execution_count": 8,
>>>>>>> upstream/master
   "metadata": {
    "collapsed": false
   },
   "outputs": [
    {
<<<<<<< HEAD
     "name": "stderr",
     "output_type": "stream",
     "text": [
      "C:\\Users\\Lenovo\\Anaconda3\\lib\\site-packages\\statsmodels\\nonparametric\\kdetools.py:20: VisibleDeprecationWarning: using a non-integer number instead of an integer will result in an error in the future\n",
      "  y = X[:m/2+1] + np.r_[0,X[m/2+1:],0]*1j\n"
     ]
    },
    {
     "data": {
      "text/plain": [
       "<matplotlib.axes._subplots.AxesSubplot at 0x235e5994fd0>"
      ]
     },
     "execution_count": 9,
=======
     "data": {
      "text/plain": [
       "<matplotlib.axes._subplots.AxesSubplot at 0x11664d208>"
      ]
     },
     "execution_count": 8,
>>>>>>> upstream/master
     "metadata": {},
     "output_type": "execute_result"
    },
    {
     "data": {
<<<<<<< HEAD
      "image/png": "iVBORw0KGgoAAAANSUhEUgAAAWkAAAD3CAYAAADfYKXJAAAABHNCSVQICAgIfAhkiAAAAAlwSFlz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\nkpQwQ1qSEmZIS1LC/j++ZqK+irDAFgAAAABJRU5ErkJggg==\n",
      "text/plain": [
       "<matplotlib.figure.Figure at 0x235e59be668>"
=======
      "image/png": "iVBORw0KGgoAAAANSUhEUgAAAWkAAAD3CAYAAADfYKXJAAAABHNCSVQICAgIfAhkiAAAAAlwSFlz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\n",
      "text/plain": [
       "<matplotlib.figure.Figure at 0x10886bf98>"
>>>>>>> upstream/master
      ]
     },
     "metadata": {},
     "output_type": "display_data"
    }
   ],
   "source": [
    "# import module with Markov approximation methods\n",
    "import sys\n",
    "sys.path.append('../Code')\n",
    "import ar1_approx as ar1\n",
    "\n",
    "# Use Rouwenhorst (1995) method\n",
    "N = 11\n",
    "num_sigma = 4\n",
    "step = (num_sigma * sigma_z) / (N / 2)\n",
    "pi_R, z_grid_R = ar1.rouwen(rho, mu, step, N)\n",
    "z_discrete_R = sim_markov(z_grid_R, pi_R, num_draws)\n",
    "\n",
    "# Plot AR(1) and Markov approximation\n",
    "sns.distplot(z_discrete_R, hist=True, kde=False, norm_hist=True)\n",
    "sns.kdeplot(np.array(z), bw=0.5)"
   ]
  },
  {
   "cell_type": "code",
<<<<<<< HEAD
   "execution_count": 10,
=======
   "execution_count": 9,
>>>>>>> upstream/master
   "metadata": {
    "collapsed": false
   },
   "outputs": [
    {
<<<<<<< HEAD
     "name": "stderr",
     "output_type": "stream",
     "text": [
      "C:\\Users\\Lenovo\\Anaconda3\\lib\\site-packages\\statsmodels\\nonparametric\\kdetools.py:20: VisibleDeprecationWarning: using a non-integer number instead of an integer will result in an error in the future\n",
      "  y = X[:m/2+1] + np.r_[0,X[m/2+1:],0]*1j\n"
     ]
    },
    {
     "data": {
      "text/plain": [
       "<matplotlib.axes._subplots.AxesSubplot at 0x235e5994f60>"
      ]
     },
     "execution_count": 10,
=======
     "data": {
      "text/plain": [
       "<matplotlib.axes._subplots.AxesSubplot at 0x108885748>"
      ]
     },
     "execution_count": 9,
>>>>>>> upstream/master
     "metadata": {},
     "output_type": "execute_result"
    },
    {
     "data": {
<<<<<<< HEAD
      "image/png": "iVBORw0KGgoAAAANSUhEUgAAAWkAAAD3CAYAAADfYKXJAAAABHNCSVQICAgIfAhkiAAAAAlwSFlz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\nJSlhhrQkJcyQlqSE/X9LTcD45vivlAAAAABJRU5ErkJggg==\n",
      "text/plain": [
       "<matplotlib.figure.Figure at 0x235e92c45f8>"
=======
      "image/png": "iVBORw0KGgoAAAANSUhEUgAAAWkAAAD3CAYAAADfYKXJAAAABHNCSVQICAgIfAhkiAAAAAlwSFlz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\nSUqYIS1JCfv/xOa9iMWNNGAAAAAASUVORK5CYII=\n",
      "text/plain": [
       "<matplotlib.figure.Figure at 0x11661f908>"
>>>>>>> upstream/master
      ]
     },
     "metadata": {},
     "output_type": "display_data"
    }
   ],
   "source": [
    "# Use Tauchen and Hussey (1991) method\n",
    "wgt = 0.5 + rho / 4\n",
    "baseSigma = wgt * sigma_eps + (1 - wgt) * sigma_z \n",
    "N_TH = 8\n",
    "z_grid_TH, pi_TH = ar1.tauchenhussey(N_TH, mu, rho, sigma_eps, baseSigma)\n",
    "z_discrete_TH = sim_markov(z_grid_TH[0], np.transpose(pi_TH), num_draws)\n",
    "\n",
    "# Plot AR(1) and Markov approximation\n",
    "sns.distplot(z_discrete_TH, hist=True, kde=False, norm_hist=True)\n",
    "sns.kdeplot(np.array(z), bw=0.5)"
   ]
  },
  {
   "cell_type": "markdown",
   "metadata": {},
   "source": [
    "One caution here, if `N>8`, the results get a bit weird with represted values for in the $z$ grid and an asymetric distribution when simulated.  I'm not sure why grid points are repeated in thh $z$ grid, but I will look into this."
   ]
  },
  {
   "cell_type": "code",
<<<<<<< HEAD
   "execution_count": 11,
=======
   "execution_count": 10,
>>>>>>> upstream/master
   "metadata": {
    "collapsed": false
   },
   "outputs": [
    {
<<<<<<< HEAD
     "name": "stderr",
     "output_type": "stream",
     "text": [
      "C:\\Users\\Lenovo\\Anaconda3\\lib\\site-packages\\statsmodels\\nonparametric\\kdetools.py:20: VisibleDeprecationWarning: using a non-integer number instead of an integer will result in an error in the future\n",
      "  y = X[:m/2+1] + np.r_[0,X[m/2+1:],0]*1j\n"
     ]
    },
    {
     "data": {
      "text/plain": [
       "<matplotlib.axes._subplots.AxesSubplot at 0x235ea889be0>"
      ]
     },
     "execution_count": 11,
=======
     "data": {
      "text/plain": [
       "<matplotlib.axes._subplots.AxesSubplot at 0x11703bcc0>"
      ]
     },
     "execution_count": 10,
>>>>>>> upstream/master
     "metadata": {},
     "output_type": "execute_result"
    },
    {
     "data": {
<<<<<<< HEAD
      "image/png": "iVBORw0KGgoAAAANSUhEUgAAAXIAAAD3CAYAAAAALt/WAAAABHNCSVQICAgIfAhkiAAAAAlwSFlz\nAAALEgAACxIB0t1+/AAAHQ9JREFUeJzt3Xt0lPW97/H3ZCbJkGQSBkgCInIR/AL1hqDipUq12mrx\n3tt2VdueWtuzTrvaus5pt67aP85pj2uvZZftObvtqXazj9u93bZq4YAoWBWrVLwhKCp8AZWLoBAg\n5AYhtzl/JGEPcZIZyITkFz4vFybP7/fMd74/GD48eWbmmUgqlUJERMJVMNgNiIhI/yjIRUQCpyAX\nEQmcglxEJHAKchGRwMWO9x3W1DRkfJlMMllCbe2B493OgNKawjEc16U1hSHXNVVWJiK9zQ2ZI/JY\nLDrYLeSd1hSO4bgurSkM+VjTkAlyERE5NjmdWjGzKmA1cIW7b0gbvwb4GdAGLHD3BwakSxER6VXW\nI3IzKwR+DxzMMH4fcCVwKXC7mVUPRJMiItK7XE6t3Av8H2Bnj/EZwGZ3r3X3FmAlcEme+xMRkSz6\nPLViZt8Aatx9uZnd2WO6HKhL224AKrLdYTJZ0uvJ/crKRLabB0drCsdwXJfWFIb+rinbOfL/BKTM\n7LPA2cC/mNm17v4xUA+k33sC2J/tDnt7mU1lZYKamoacmg6F1hSO4bgurSkMua6pr7DvM8jd/fCp\nEjN7HvhuV4gDrAemmdkooJHO0yr3Zu1GRETy6qjfEGRmNwNl7n6/md0BLKfzXPsCd9+R7wZFRKRv\nOQe5u8/r+nZD2tgSYEmeexIRkaOgNwSJDKLn1+7g+bX6QVb6R0EuQ4LCTOTYKchFRAKnIBcRCZyC\nXE5oOkctw4GCXCTP9A+DHG8KcgmOjqJFjqQgF8lC/3DIUKcglxOOQlmGGwW5DCvHM6T1D4IMFQpy\nGfaOJXAV0hISBbmISOAU5CIigVOQi4gETkEuIhI4BbmISOAU5CIigVOQi4gETkEuIhK4rJ/ZaWZR\n4AHAgBTwXXd/O23+R8BtQE3X0Hfc3QegVxERySCXD1++BsDdLzKzecAvgOvS5mcDt7r76vy3JyIi\n2WQ9teLui4DbuzYnAvt77DIbuNPMVprZnXnuT0REssjliBx3bzOzB4EbgC/2mH4E+A1QDyw0s/nu\n/kRvtZLJEmKxaMa5yspETk2HRGvKTaIsnnPdRFm81z4y1ek5lr7dXatnvUz7ZKub77Xkgx5/Yejv\nmnIKcgB3/7qZ/QR4xcxmunuTmUWAX7l7HYCZLQVmAb0GeW3tgYzjlZUJamoajqr5oU5ryl1DY3PO\ndRsamwEy7p+pTs+x9O3uWj3rZdonW918r6W/9PgLQ65r6ivsc3my8xbgZHe/BzgAdHT9AigH3jaz\nGUATcBmwIGtHIiKSN7m8/PDPwCwzewFYDvwQuMHMbu86Er8LWAG8CLzj7k8OWLciIvIJWY/I3b0J\n+HIf8w8BD+WzKRERyZ3eECQiEjgFuYhI4BTkIiKBU5CLiAROQS4iEjgFuYhI4BTkIiKBU5CLiARO\nQS4iEjgFuYhI4BTkIiKBU5CLiAROQS4iEjgFuYhI4BTkIiKBU5CLiAROQS4iEjgFuYhI4HL58OUo\n8ABgQAr4rru/nTZ/DfAzoA1Y4O4PDFCvIiKSQS5H5NcAuPtFwE+BX3RPmFkhcB9wJXApcLuZVQ9A\nnyIi0ousQe7ui4DbuzYnAvvTpmcAm9291t1bgJXAJXnvUkREepX11AqAu7eZ2YPADcAX06bKgbq0\n7Qagoq9ayWQJsVg041xlZSKXdoKiNeUmURbPuW6iLN5rH5nq9BxL3+6u1bNepn2y1c33WvJBj78w\n9HdNOQU5gLt/3cx+ArxiZjPdvQmoB9I7SHDkEfsn1NYeyDheWZmgpqYh13aCoDXlrqGxOee6DY3N\nABn3z1Sn51j6dnetnvUy7ZOtbr7X0l96/IUh1zX1Ffa5PNl5C3Cyu98DHAA6un4BrAemmdkooJHO\n0yr3Zu1IRETyJpcnO/8MzDKzF4DlwA+BG8zsdndvBe7oGl9F56tWdgxYtyIi8glZj8i7TqF8uY/5\nJcCSfDYlIiK50xuCREQCpyAXEQmcglxEJHAKchGRwCnIRUQCpyAXEQmcglxEJHAKchGRwCnIRUQC\npyAXEQmcglxEJHAKchGRwCnIRUQCpyAXEQmcglxEJHAKchGRwCnIRUQCpyAXEQmcglxEJHB9fman\nmRUCC4BJQDHwc3dfnDb/I+A2oKZr6Dvu7gPTqoiIZJLtw5e/Bux191vMbBSwFlicNj8buNXdVw9U\ngyIi0rdsQf4o8FjX9xGgrcf8bOBOMxsLLHX3e/Lcn4iIZNFnkLt7I4CZJegM9J/22OUR4DdAPbDQ\nzOa7+xN91UwmS4jFohnnKisTObYdDq0pN4myeM51E2XxXvvIVKfnWPp2d62e9TLtk61uvteSD3r8\nhaG/a8p2RI6ZTQAWAr9194fTxiPAr9y9rmt7KTAL6DPIa2sPZByvrExQU9OQe+cB0Jpy19DYnHPd\nhsZmgIz7Z6rTcyx9u7tWz3qZ9slWN99r6S89/sKQ65r6CvtsT3ZWA08D33P3Z3tMlwNvm9kMoAm4\njM4nRkVE5DjKdkR+F5AE7jazu7vGHgBK3f1+M7sLWAEcAp519ycHrlUREckk2znyHwA/6GP+IeCh\nfDclIiK50xuCREQCpyAXEQmcglxEJHAKchGRwCnIRUQCpyAXEQmcglxEJHAKchGRwCnIRUQCpyAX\nEQmcglxEJHAKchGRwCnIRUQCpyAXEQmcglxEJHAKchGRwCnIRUQCpyAXEQlctg9fLqTzA5UnAcXA\nz919cdr8NcDPgDZggbs/MHCtiohIJtmOyL8G7HX3TwOfB/6xe6Ir5O8DrgQuBW43s+qBalRERDLL\nFuSPAnd3fR+h88i72wxgs7vXunsLsBK4JP8tiohIX/o8teLujQBmlgAeA36aNl0O1KVtNwAV2e4w\nmSwhFotmnKusTGS7eXC0ptwkyuI5102UxXvtI1OdnmPp2921etbLtE+2uvleSz7o8ReG/q6pzyAH\nMLMJwELgt+7+cNpUPZB+7wlgf7Z6tbUHMo5XViaoqWnIdvOgaE25a2hszrluQ2MzQMb9M9XpOZa+\n3V2rZ71M+2Srm++19Jcef2HIdU19hX22JzurgaeB77n7sz2m1wPTzGwU0EjnaZV7s3YjIiJ5le2I\n/C4gCdxtZt3nyh8ASt39fjO7A1hO57n2Be6+Y+BaFRGRTLKdI/8B8IM+5pcAS/LdlIiI5E5vCBIR\nCZyCXEQkcApyEZHAKchFRAKnIBcRCZyCXEQkcApyEZHAKchFRAKnIBcRCZyCXEQkcApyEZHAKchF\nRAKnIBcRCZyCXEQkcApyEZHAKchFRAKnIBcRCZyCXEQkcApyEZHAZfvwZQDM7HzgH9x9Xo/xHwG3\nATVdQ99xd89rhyIi0qesQW5mPwZuAZoyTM8GbnX31fluTEREcpPLEfl7wI3AQxnmZgN3mtlYYKm7\n35OtWDJZQiwWzThXWZnIoZ2waE25SZTFc66bKIv32kemOj3H0re7a/Wsl2mfbHXzvZZ80OMvDP1d\nU9Ygd/fHzWxSL9OPAL8B6oGFZjbf3Z/oq15t7YGM45WVCWpqGrK1ExStKXcNjc05121obAbIuH+m\nOj3H0re7a/Wsl2mfbHXzvZb+0uMvDLmuqa+wP+YnO80sAvzK3fe4ewuwFJh1rPVEROTY5PRkZy/K\ngbfNbAad588vAxbkpSsREcnZUQe5md0MlLn7/WZ2F7ACOAQ86+5P5rtBERHpW05B7u5bgLld3z+c\nNv4QmZ8EFRGR40RvCBIRCZyCXEQkcApyEZHAKchFRAKnIBcRCZyCXEQkcApyEZHAKchFRAKnIBcR\nCZyCXEQkcApyEZHAKchFRAKnIBcRCZyCXEQkcApyEZHAKchFRAKnIBcRCZyCXEQkcDkFuZmdb2bP\nZxi/xsxeM7NVZvbtvHcnIiJZZQ1yM/sx8Acg3mO8ELgPuBK4FLjdzKoHokkREeldLkfk7wE3Zhif\nAWx291p3bwFWApfkszkREckulm0Hd3/czCZlmCoH6tK2G4CKbPWSyRJisWjGucrKRLabB0dryk2i\nLJ5z3URZvNc+MtXpOZa+3V2rZ71M+2Srm++15IMef2Ho75qyBnkf6oH0e08A+7PdqLb2QMbxysoE\nNTUN/Whn6NGactfQ2Jxz3YbGZoCM+2eq03Msfbu7Vs96mfbJVjffa+kvPf7CkOua+gr7/gT5emCa\nmY0CGuk8rXJvP+qJiMgxOOogN7ObgTJ3v9/M7gCW03mufYG778h3gyIi0recgtzdtwBzu75/OG18\nCbBkQDoTEZGc6A1BIiKBU5CLiAROQS4iEjgFuYhI4BTkIiKBU5CLiAROQS4iEjgFuYhI4BTkIiKB\nU5CLiAROQS4iEjgFuYhI4PpzGVuRIKRSKfYc3MuWum3sbNrFuoatvPpaC3Ut9TS1HKQjlWLxYxHi\n0WJGFJaQLK6gtWkEBR9OZlL5KXSkOiiIZP4wFJGhQEEuw1JLeysb9m3kzZp3eLNuA4+tajxiPtYW\npby4nJKCcgooYGR5MQ3NB6g/VM/HTbsA2LzxTQCixKgsPJmCD2dxZuVMRhZn/SAskeNKQS7DRiqV\nYk/rDv7l3ZWsqVlHS3sLAEWROGdXns6pFZMYX3YSH2zp4HOzphGJRHh+becl9L90xfTDn9JysK2Z\nZWvXM3Z8O1vqtvLWrk183LqFP27cwp82LmJa8lTOH3sO7anKQVurSDoFuQSvtb2V13at4bntL/JR\n0y5ogNHxJOeMv5Czq07ng/cK+MwZJx/e/6NtO4hEIr3WGxGLk4xVccG48Vwwbg7jmnfQ1F5PafU+\nVu96k421m9lYu5miSJyGzXO59OQLScZHHo+limSkIJdgtba3snLnKyzf+hwNLY0URAqYUHQaN8yc\nx7TkFAoinc/lb4n0/4OrSqPlzDt5BvNOvog9B/fy0s7XWLFtFX/Z9jwrtr/IRePncuXEeTrtIoNC\nQS7B6Uh1sLXlXZ55eTW1h/YTjxZzxSnzmDfhItaub8RGjR/Q+x8zYjTXnvp5SutnMKJ6F8u2PMdf\nP/wbL+18hYvHz6WsY/qA3r9ITwpyCUYqlWJNzTqW1z1BY8d+CgtiXH7KJVw58TOUFZZ27dXYZ418\nikZiXHjSeZw/djYvf/w6T33wLCu2ryTKy7S9P48rJ86jKFp03PqRE1fWIDezAuC3wFnAIeA2d9+c\nNv8j4DagpmvoO+7uA9CrnMB2Nn7MnzYuYtP+94lQwJTiM/jWnGuHxKmMaEGUi046n/PHzmbVR6+x\naOPTPLXlGV7+6HVumnYNZ1ee3uc5eZH+yuWI/Hog7u4XmNlc4JfAdWnzs4Fb3X31QDQoJ7bmtmae\n3PIMK7avpCPVwemjZzCh7TzKoiOHRIinixXE+PT4C2jePZamxHqe2/4if3j7ISw5lS+ddh3jSqsH\nu0UZpnIJ8ouBZQDu/rKZzekxPxu408zGAkvd/Z6+iiWTJcRimd9cUVmZyKGdsGhNuUmUxY+om0ql\nWLX9DR5c+yi1B+uoKh3NN2Z9mTnjz2TZqi299tGzTqax9O1EWfzweLZ9stXtNipRzs0XfIUvnD6P\nB9c8ypqP3uGeV+/j2ulXctOnrqYoWnhEjd7Wkg96/IWhv2vKJcjLgbq07XYzi7l7W9f2I8BvgHpg\noZnNd/cneitWW3sg43hlZeLw63iHC60pdw2NzYfr7j9UxyO+kHV73iVWEOPqyVdwxSnzKIoWUlPT\nQENjM0DGPtLr9DaWvt1dq2e9TPtkq9tzvJASvjX9Vt6uXM8ffREL1y/jpa2ruXn6F5k6cnKftfNB\nj78w5LqmvsI+lyCvB9IrFHSHuJlFgF+5e13X9lJgFtBrkIv0piPVwUs7X2Xh5idpbm/mtJGn8nfT\nb6KqZMxgt3bMIpEIZ4yZybSRU1j8/nJe+PAl7nvjd1wy/gKuPfWqwW5PholcgvxvwDXAn7rOka9L\nmysH3jazGUATcBmwIO9dyrDX0F7L/1qzhE373ycejXPz9Ju4cNx5w+ZJwngszpdPu4451Wfzb+sf\n5YUdq3hrz7ucXngp44omD3Z7ErhcgnwhcIWZvQREgG+a2c1Ambvfb2Z3ASvofEXLs+7+5MC1K8NN\ne0c7z21/kafrltNBO2eO+RRfseuH3BOZ+TKlYiJ/f94PWb7lOZ7euoKVhxYzoeg0Zrd8lURR2WC3\nJ4HKGuTu3gF8t8fwhrT5h4CH8tyXnAC2N+zk4Q2Psq1hB8WREXztUzcxq/KMYXMU3pvCghjzp1zJ\nOVVn8rvV/8b2lo38j1fu5UvTOo/Yh/v6Jf/0hiA57lrbW3lyyzM8s+2vdKQ6OH/sbKqbZ3NO1dTB\nbu24OqlsLJeVf5lNh9ayvvll/u+7/87ru9bwVbtR126Ro6Igl+NqU+37POyPsfvAHkbHk/yd3cSM\n0acdvgrhiSYSKeC0+DnceNaFPLzhcd7eu4Gfv/JLrp96NReddP7h68WI9EVBLsfFwbaDLNr8JCt3\nvkKECJ+ZcDHzJ3+OeKx4sFsbEsaMGM33z/42qz56jT9vfoJHfCGrd73JzdNvoqpEl8uVvinIZcC9\nWfMOf/SF1LXUc1LpWG6e/kUmV5wy2G0NOZFIhAtPOo+Zo40/+iLe2vMO//PV+7hq0me5/JRLiBXo\nr6tkpkeGDJg9B/fy2KbFrNuznlgkyvzJV3LFxHkKpCxGFldw+xm3sqZmHX/yRSx+fxmvfPwGX7Xr\nOS15Yj2PILnR3yjJu5b2Vv6ydQVPb3ueto42po2cwlfsBl1r5ChEIhHOqTqT6cmpLHl/OS/ueJlf\nr7mfc6tnccPU+VQUD7+3qcuxU5BL3qRSKdbteZfHNi1hb/M+KooS3Dh1PrP1krpjVlJYwlfsBuaO\nm8MjvpDXdq1h3Z71XDX5ci4dfyGFaddtkROXglzy4oO6rSx670k27/+AgkgBl59yCVdP+izxWDz7\njSWrieUT+G9zvsffdr7C4veWsXDzUl748CWuPfUqZledpX8oT3AKcumXXQdqWPzeMtbWdF654Ywx\nM7j+1KsZq9MoeVcQKeDT4y9gdtVZPLXlWf764Uv88zsP89z2F7lx6vzDF+KSE4+CXI5JzYG9/GXb\nClZ99DodqQ4ml5/C9VO/oDA5DkoKS7hp2jVcevKF/L/3nuKN3W9x3xu/Y3pyGp+fdDnTklMGu0U5\nzhTkclS27d/BI+88wepdb5IiRVXJGK6dcpU+BWcQjBkxmm+d/jU+U7eVpe8/zYbaTWyo3cTUkZO5\natJnGTNm1mC3KMeJglyySqVSbN7/Ps9uf5F1e94FYHzZOD438TPMqjpT7z4cZFMqJvL9Wd/m/bqt\nPLXlGd7d6/zvtQ+wbNskLhw7l1lVZ1Kol3wOa/rTlV41tR7glY9eZ+XOV9l1YDcANnoKl42/lE+N\nnq4j8CFmSsVE/stZ32Jr/XaWbXmOdXveZdO+LTy+aQkXnnQenx4/l1Hx5GC3KQNAQS5HaO9oZ2Pt\ne7y66w3e2P0WbR1txApinFs9i4vHz2Xu1DPYs+f4fVK9HL2J5RP4zplfp2NEM4vWPcPLO1/n6a0r\n+MvW55k52phTfTZnjpmpVxQNIwpyORzeb+x+kzdr3qGprfPj+KpGjOGi8eczd+wcyopKAXQUHpDq\nskpunDqf+ZM/x+pda3lhxyre2buBd/ZuoLAgxumjZzCn+mxmjjaKokWD3a70g4L8BLXn4F7W79uE\n79uE127mQNtBACqKElx68kWcU3Ump1ZMUnAPA0XRQi446VwuOOlcdjXt5vXdb7J611rW1KxjTc06\nYgUxplZMZsbo05g5yhhXWq0/98AoyE8A7R3t7Gzaxbb67Wyp38bG2vfY07zv8HyyeCTnjp3FOVVn\nMaViop68HMaqS6v4wuQruHrSZ/mwcSdv7H6Ld/ZuOPyKl4UsZWRxBVMqJjK5YiKTy0/h5MR4PVk6\nxOlPZxhJpVLUtdTzcdNuPj6wm11Nu/mw8SO2N+ygtaP18H7xaJyzxnyK6aOmYaOmUTVijI7ATjCR\nSIQJifFMSIznulOvou5QPev3bWT9vo1s2LeJN3a/xRu73wIgFokyvuwkxpVVM660mnGlYxlXWkWy\neKQeN0NE1iA3swLgt8BZdH4u523uvjlt/hrgZ0AbsMDdHxigXk9o7R3tNLY20djaRFNrEw0tjdQe\nqmNf835qm/ezr7mWvc37ONjWfMTtCiIFjCutZmJiApPKJzCxfALjSquJFkQHaSUyFFUUlzN33Bzm\njptDKpVib/M+3q/bypb6bXxQt40PG3eytWH7EbcpLChkdDzJqBFJRsdHMTqepKK4nLLCUhJFZZQV\nllJWVKaj+eMgl9/h64G4u19gZnOBXwLXAZhZIXAfcC7QBPzNzBa7+66BaPZgWzNtHW2Ht1OkOr+m\nOrfSxzrHU33sl/b/VPrt0iqkUp/Yu7tmb/fVQQftHR20p9rZ1VHE3tpG2lPttHe0d35NddDW/X1H\nO22pNg61HeJQewuHOlo41NZCS3vn9sH2ZppaD9DU2vSJgO6pqKCQUfEklpzK2JIqqkurGFtaxdiS\nKj2RJUclEokwZsRoxowYzXljzwE6DyR2H9zDR027Dv+qObCHfc21fNz10tTexKPFlBWVURoroTha\nRHGsmOJoEfFoMcXRzu+LokXECmLECqJEI51fYwUxopHOr7FIlGhBlNpIGXX1B4l0/xc58mvBEdsF\nXV/5xH4ZVt3L70WmPXP7KaTnfgWRCCWFJTnd9mjlEuQXA8sA3P1lM5uTNjcD2OzutQBmthK4BHg0\n342u2/Muv3/rwSPCc7iLRqKUFZaQLB7JhLJSyopKKSsspbSw82syXsGoeJJkfCSlsRL9mCsDJloQ\n7Tqt8slr6BxsO8i+5v3sPbiP+pYGGrt+YmxsbaKxpYmG1kYaWxrZeaiO1rQDsRPR/Mmf46rJl+e9\nbiT9CDMTM/sD8Li7P9W1vQ2Y4u5tZnYx8H13/0rX3H8Htrn7H/LeqYiIZJTLyxPqgfSr2Be4e1sv\ncwlgf556ExGRHOQS5H8DrgboOke+Lm1uPTDNzEaZWRGdp1VW5b1LERHpVS6nVrpftXImnc8IfBM4\nByhz9/vTXrVSQOerVn4zsC2LiEi6rEEuIiJDm97CJyISOAW5iEjgFOQiIoEbMu+dNbNS4GEgCbQA\nX3f3HYPbVf+YWQXwr0A5UATc4e7D4lU9ZnYD8CV3v3mwezlW2S4/ETIzOx/4B3efN9i95EPXu8gX\nAJOAYuDn7r54UJvqJzOLAg8ARucbx7/r7m8fS62hdET+bWC1u19CZ/j9eJD7yYc7gGfd/VLgG8Cw\neEWPmf0auIeh9fg5FocvPwH8PZ2Xnwiemf0Y+AMwnD454mvAXnf/NPB54B8HuZ98uAbA3S8Cfgr8\n4lgLDZm/iO7+K/5jIacwPN5YdB/w+67vY0DfF0wJx0vAfx7sJvLgiMtPAHP63j0Y7wE3DnYTefYo\ncHfX9xE6L9IXNHdfBNzetTmRfmTeoJxaMbNvAT/qMfxNd3/NzJ4DzgCuOP6dHbssaxpL508ZPzz+\nnR27Ptb0RzObNwgt5Vs5UJe23W5msbR3LgfJ3R83s0mD3Uc+uXsjgJklgMfoPIINXtelTh4EbgC+\neKx1BiXI3f2fgH/qZe4yM5sOLAVOPa6N9UNvazKzM4BHgP/q7n897o31Q19/TsNEX5efkCHGzCYA\nC4HfuvvDg91Pvrj7183sJ8ArZjbT3ZuOtsaQObViZnea2S1dm41A+2D2kw9mNpPOHwlv7r7omAwp\nfV1+QoYQM6sGngZ+4u4LBruffDCzW8zszq7NA0BH16+jNmRetULnM9IPdv04H6XzUgChu4fOJ5x+\nbWYAde5+3eC2JGkWAleY2Uv8x+UnZGi6i85XtN1tZt3nyq9y94OD2FN//Rn4ZzN7ASgEfnis69Fb\n9EVEAjdkTq2IiMixUZCLiAROQS4iEjgFuYhI4BTkIiKBU5CLiAROQS4iErj/D8O8fOaYXD53AAAA\nAElFTkSuQmCC\n",
      "text/plain": [
       "<matplotlib.figure.Figure at 0x235e53f5518>"
=======
      "image/png": "iVBORw0KGgoAAAANSUhEUgAAAXIAAAD4CAYAAADxeG0DAAAABHNCSVQICAgIfAhkiAAAAAlwSFlz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\n",
      "text/plain": [
       "<matplotlib.figure.Figure at 0x11703b390>"
>>>>>>> upstream/master
      ]
     },
     "metadata": {},
     "output_type": "display_data"
    }
   ],
   "source": [
    "# Use Adda and Cooper (2003) method\n",
    "z_grid_AC, pi_AC = ar1.addacooper(N, mu, rho, sigma_eps)\n",
    "z_discrete_AC = sim_markov(z_grid_AC, np.transpose(pi_AC), num_draws)\n",
    "\n",
    "# Plot AR(1) and Markov approximation\n",
    "sns.distplot(z_discrete_AC, hist=True, kde=False, norm_hist=True)\n",
    "sns.kdeplot(np.array(z), bw=0.5)"
   ]
  },
  {
   "cell_type": "markdown",
   "metadata": {},
   "source": [
    "Three 3 plots are highly illustrative of the approaches these different methods take.  Rouwenhorst (1995) chooses and evenly spaced grid over $z$ and then fits the transition matrix over these points to produced the normal distribution found in the stationary distribution of $z$. Adda and Cooper (2003) break the the real line up into intervals with equal probability density and we see this in the density that results from the Markov process.  Tauchen and Hussey (1991) is somewhat between the other two methods in this repsect.  The grid for $z$ is not evenly spaced, but the probability density of any particular grid point varies in the stationary distribution.\n",
    "\n",
    "Also notice how the range of values in the $z$ grid changes across methods.  The Rouwenhorst (1995) and Tauchen and Hussey (1991) methods allow you to set this range with `step` and `baseSigma`, respectively.\n",
    "\n",
    "You can play around with `N`, $\\rho$, $\\sigma_{\\varepsilon}$, and see how these approximations perform.  For a rigorous comparison of these approaches, please see Kopecky and Suen (2010).  They find that the Rouwenhorst (1995) method outperforms the others when $\\rho$ is close to one.  You might consider the peristence and variability in the shocks to your autoregressive process when choosing the most appropriate method for your problem."
   ]
  },
  {
   "cell_type": "code",
<<<<<<< HEAD
   "execution_count": 12,
=======
   "execution_count": 11,
>>>>>>> upstream/master
   "metadata": {
    "collapsed": false
   },
   "outputs": [
    {
<<<<<<< HEAD
     "name": "stderr",
     "output_type": "stream",
     "text": [
      "C:\\Users\\Lenovo\\Anaconda3\\lib\\site-packages\\statsmodels\\nonparametric\\kdetools.py:20: VisibleDeprecationWarning: using a non-integer number instead of an integer will result in an error in the future\n",
      "  y = X[:m/2+1] + np.r_[0,X[m/2+1:],0]*1j\n"
     ]
    },
    {
     "data": {
      "text/plain": [
       "<matplotlib.axes._subplots.AxesSubplot at 0x235edf3fdd8>"
      ]
     },
     "execution_count": 12,
=======
     "data": {
      "text/plain": [
       "<matplotlib.axes._subplots.AxesSubplot at 0x11aa6de10>"
      ]
     },
     "execution_count": 11,
>>>>>>> upstream/master
     "metadata": {},
     "output_type": "execute_result"
    },
    {
     "data": {
<<<<<<< HEAD
      "image/png": "iVBORw0KGgoAAAANSUhEUgAAAWkAAAD6CAYAAABj/rYXAAAABHNCSVQICAgIfAhkiAAAAAlwSFlz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\nAAAASUVORK5CYII=\n",
      "text/plain": [
       "<matplotlib.figure.Figure at 0x235ea9ff6a0>"
=======
      "image/png": "iVBORw0KGgoAAAANSUhEUgAAAWkAAAD4CAYAAAAuNhccAAAABHNCSVQICAgIfAhkiAAAAAlwSFlz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\nGdKSlDBDWpIS9v8BotqnTUoO18cAAAAASUVORK5CYII=\n",
      "text/plain": [
       "<matplotlib.figure.Figure at 0x1171af860>"
>>>>>>> upstream/master
      ]
     },
     "metadata": {},
     "output_type": "display_data"
    }
   ],
   "source": [
    "# Try the Tauchen method from QuantEcon\n",
    "from quantecon import tauchen\n",
    "\n",
    "qe_result = tauchen(rho, sigma_eps, 3, N)\n",
    "pi_QE = qe_result.P\n",
    "z_grid_QE = np.linspace(-3*sigma_z, 3*sigma_z, N) # why can't this be returned from call to function??\n",
    "z_discrete_QE = sim_markov(z_grid_QE, np.transpose(pi_QE), num_draws)\n",
    "\n",
    "# Plot AR(1) and Markov approximation\n",
    "sns.distplot(z_discrete_QE, hist=True, kde=False, norm_hist=True)\n",
    "sns.kdeplot(np.array(z), bw=0.5)"
   ]
  },
  {
   "cell_type": "markdown",
   "metadata": {},
   "source": [
    "This looks close to Rouwenhorst since it also uses an evenly spaced grid.  I'm not sure why the `quantecon.tauchen` method only returns the transition matrix... maybe becuase it's simply a linear spaced grid over the specied range of the distribution."
   ]
  },
  {
   "cell_type": "markdown",
   "metadata": {},
   "source": [
    "## 3. References\n",
    "* Adda, Jerome and Russell Cooper, *Dynamic Economics: Quantitative Methods and Applications*, MIT Press (2003).\n",
    "* Kopecky, Karen and Richard Suen, \"Finite State Markov-chain Approximations to Highly Persistent Processes\", *Review of Economic Dynamics*, 13:3, pp. 701-714 (July 2010)\n",
    "* Rouwenhorst, K Geert, \"Asset Pricing Implications of Equilibrium Business Cycle Models\", in *Frontiers of Business Cycle Research* (Thomas F. Cooley Ed.), Princeton University Press (1995).\n",
    "* Tauchen, George and Robert Hussey, \"Quadrature-Based Methods for Obtaining Approximate Solutions to Nonlinear Asset Pricing Models\", *Econometrica*, 59:2, pp. 371-396, (1991)."
   ]
  },
  {
   "cell_type": "code",
   "execution_count": null,
   "metadata": {
    "collapsed": true
   },
   "outputs": [],
   "source": []
  }
 ],
 "metadata": {
  "kernelspec": {
   "display_name": "Python 3",
   "language": "python",
   "name": "python3"
  },
  "language_info": {
   "codemirror_mode": {
    "name": "ipython",
    "version": 3
   },
   "file_extension": ".py",
   "mimetype": "text/x-python",
   "name": "python",
   "nbconvert_exporter": "python",
   "pygments_lexer": "ipython3",
   "version": "3.6.0"
  }
 },
 "nbformat": 4,
 "nbformat_minor": 2
}
