{
 "cells": [
  {
   "cell_type": "code",
   "execution_count": 14,
   "metadata": {
    "collapsed": false
   },
   "outputs": [],
   "source": [
    "import numpy as np\n",
    "import scipy as sp\n",
    "import matplotlib.pyplot as plt\n",
    "import scipy.optimize as opt\n",
    "from LinApp_FindSS import LinApp_FindSS\n",
    "from LinApp_Deriv import LinApp_Deriv\n",
    "from LinApp_Solve import LinApp_Solve"
   ]
  },
  {
   "cell_type": "markdown",
   "metadata": {},
   "source": [
    "Exercise 1\n",
    "\n",
    "$F = \\frac{\\alpha^{2}\\beta}{\\alpha\\beta ^{\\frac{\\alpha}{1 - \\alpha}} - \\alpha\\beta^{\\frac{1}{1 - \\alpha}}}$\n",
    "\n",
    "$G = -\\frac{\\alpha^{3}\\beta (1 + \\beta)}{\\alpha\\beta ^{\\frac{\\alpha}{1 - \\alpha}} - \\alpha\\beta^{\\frac{1}{1 - \\alpha}}}$\n",
    "\n",
    "$H =  \\frac{\\alpha^{4}\\beta^{2}}{\\alpha\\beta ^{\\frac{\\alpha}{1 - \\alpha}} - \\alpha\\beta^{\\frac{1}{1 - \\alpha}}}$\n",
    "\n"
   ]
  },
  {
   "cell_type": "code",
   "execution_count": 15,
   "metadata": {
    "collapsed": true
   },
   "outputs": [],
   "source": [
    "# problem 4\n",
    "# We will use the same structure as Dr. Phillips\n",
    "def Modeldefs(Xp, X, Y, Z, params):\n",
    "    '''\n",
    "    This function takes vectors of endogenous and exogenous state variables\n",
    "    along with a vector of 'jump' variables and returns explicitly defined\n",
    "    values for consumption, gdp, wages, real interest rates, and transfers\n",
    "    \n",
    "    Inputs are:\n",
    "        Xp: value of capital in next period\n",
    "        X: value of capital this period\n",
    "        Y: value of labor this period\n",
    "        Z: value of productivity this period\n",
    "        params: list of parameter values\n",
    "    \n",
    "    Output are:\n",
    "        Y: GDP\n",
    "        w: wage rate\n",
    "        r: rental rate on capital\n",
    "        T: transfer payments\n",
    "        c: consumption\n",
    "        u: utiity\n",
    "    '''\n",
    "    \n",
    "    # unpack input vectors\n",
    "    kp = Xp\n",
    "    k = X\n",
    "    ell = Y\n",
    "    z = Z\n",
    "    \n",
    "    # find definintion values\n",
    "    Y = k**alpha*(np.exp(z)*ell)**(1-alpha)\n",
    "    w = (1-alpha)*Y/ell\n",
    "    r = alpha*Y/k\n",
    "    T = tau*(w*ell + (r - delta)*k)\n",
    "    c = (w*ell + (r - delta)*k)  + k - kp\n",
    "    u = c**(1-gamma)/(1-gamma) + a*((1 - ell)**(1 - xi) - 1)/(1 - xi) \n",
    "    \n",
    "    return Y, w, r, T, c, u"
   ]
  },
  {
   "cell_type": "code",
   "execution_count": 16,
   "metadata": {
    "collapsed": true
   },
   "outputs": [],
   "source": [
    "def Modeldyn(theta0, params):\n",
    "    '''\n",
    "    This function takes vectors of endogenous and exogenous state variables\n",
    "    along with a vector of 'jump' variables and returns values from the\n",
    "    characterizing Euler equations.\n",
    "    \n",
    "    Inputs are:\n",
    "        theta: a vector containng (Xpp, Xp, X, Yp, Y, Zp, Z) where:\n",
    "            Xpp: value of capital in two periods\n",
    "            Xp: value of capital in next period\n",
    "            X: value of capital this period\n",
    "            Yp: value of labor in next period\n",
    "            Y: value of labor this period\n",
    "            Zp: value of productivity in next period\n",
    "            Z: value of productivity this period\n",
    "        params: list of parameter values\n",
    "    \n",
    "    Output are:\n",
    "        Euler: a vector of Euler equations written so that they are zero at the\n",
    "            steady state values of X, Y & Z.  This is a 2x1 numpy array. \n",
    "    '''\n",
    "    \n",
    "    # unpack theat0\n",
    "    (Xpp, Xp, X, Yp, Y, Zp, Z) = theta0\n",
    "    alpha, beta, gamma, delta, a, xi, rho, tau = params\n",
    "    ell = Y\n",
    "    # find definitions for now and next period\n",
    "    Y, w, r, T, c, u = Modeldefs(Xp, X, Y, Z, params)\n",
    "    Yp, wp, rp, Tp, cp, up = Modeldefs(Xpp, Xp, Yp, Zp, params)\n",
    "    \n",
    "    # Evaluate Euler equations\n",
    "    \n",
    "    E1 = (c**(-gamma)*w*(1- tau))-(a*(1 - ell)**(-xi)) \n",
    "    E2 = (c**(-gamma)) - (beta*cp**(-gamma)*(1 + (rp - delta)*(1 - tau))) \n",
    "    \n",
    "    \n",
    "    return np.array([E1, E2])"
   ]
  },
  {
   "cell_type": "code",
   "execution_count": 17,
   "metadata": {
    "collapsed": false
   },
   "outputs": [],
   "source": [
    "# set parameter values\n",
    "alpha = .40\n",
    "beta = .98\n",
    "gamma = 2.5\n",
    "delta = .10\n",
    "a = .5\n",
    "xi = 1.5\n",
    "rho = .9\n",
    "tau = .05\n",
    "\n",
    "# make parameter list to pass to functions\n",
    "params = (alpha, beta, gamma, delta, a, xi, rho, tau)\n",
    "\n",
    "# set LinApp parameters\n",
    "Zbar = np.array([0.])\n",
    "nx = 1\n",
    "ny = 1\n",
    "nz = 1\n",
    "logX = 0\n",
    "Sylv = 0"
   ]
  },
  {
   "cell_type": "code",
   "execution_count": 18,
   "metadata": {
    "collapsed": false
   },
   "outputs": [
    {
     "name": "stdout",
     "output_type": "stream",
     "text": [
      "XYbar:  [ 4.22522903  0.57979145]\n",
      "check:  [  1.95399252e-14  -6.66133815e-15]\n",
      "\n",
      "output: 1.28322610883\n",
      "\n",
      "wage: 1.32795276835\n",
      "\n",
      "interest rate: 0.121482277121\n",
      "\n",
      "Government transfer: 0.0430351603077\n",
      "\n",
      "Consumption: 0.860703206154\n",
      "\n",
      "Utility: -1.37753930478\n",
      "\n",
      "Investment: 0.422522902678\n"
     ]
    }
   ],
   "source": [
    "# take a guess for steady state values of k and ell\n",
    "guessXY = np.array([0.1, .25])\n",
    "\n",
    "# find the steady state values using LinApp_FindSS\n",
    "XYbar = LinApp_FindSS(Modeldyn, params, guessXY, Zbar, nx, ny)\n",
    "(k_bar, ell_bar) = XYbar\n",
    "print ('XYbar: ', XYbar)\n",
    "\n",
    "# set up steady state input vector\n",
    "theta0 = np.array([k_bar, k_bar, k_bar, ell_bar, ell_bar, 0., 0.])\n",
    "\n",
    "# derive the steady state value of other variables\n",
    "Y_bar, w_bar, r_bar, T_bar, c_bar, u_bar = Modeldefs(k_bar, k_bar, ell_bar, 0, params)\n",
    "i_bar = delta*k_bar\n",
    "# check SS solution\n",
    "check = Modeldyn(theta0, params)\n",
    "print ('check: ', check)\n",
    "if np.max(np.abs(check)) > 1.E-6:\n",
    "    print ('Have NOT found steady state')\n",
    "print(\"\\noutput:\", Y_bar)\n",
    "print(\"\\nwage:\", w_bar)\n",
    "print(\"\\ninterest rate:\", r_bar)\n",
    "print(\"\\nGovernment transfer:\", T_bar)\n",
    "print(\"\\nConsumption:\", c_bar)\n",
    "print(\"\\nUtility:\", u_bar)\n",
    "print(\"\\nInvestment:\", i_bar)\n",
    "\n"
   ]
  },
  {
   "cell_type": "code",
   "execution_count": 19,
   "metadata": {
    "collapsed": false
   },
   "outputs": [
    {
     "name": "stdout",
     "output_type": "stream",
     "text": [
      "[[  0.00000000e+00   6.55092708e+01   1.38691596e-01  -5.96901883e+01\n",
      "   -1.84916383e+00  -8.01620336e-01   0.00000000e+00  -2.32323173e+00]\n",
      " [  0.00000000e+00   2.61165854e-01   1.90314422e-02  -2.37267395e-01\n",
      "   -2.53744679e-01  -1.09999391e-01   0.00000000e+00  -1.38924066e-01]\n",
      " [  0.00000000e+00   8.30161430e+00   4.21214272e-02  -7.56666969e+00\n",
      "   -5.61601581e-01  -2.43456660e-01   0.00000000e+00  -4.66716153e-01]\n",
      " [  0.00000000e+00   7.99243948e+00  -8.88178420e-12  -7.28699809e+00\n",
      "    6.66133815e-11   2.66453526e-11   0.00000000e+00  -1.64792371e-01]\n",
      " [  0.00000000e+00  -1.09592495e+00   1.22124533e-12   1.00000000e+00\n",
      "   -1.05471187e-11  -3.60822483e-12   0.00000000e+00   2.26130422e-02]\n",
      " [  0.00000000e+00   8.75343610e-02   1.41261338e-03  -7.98825428e-02\n",
      "   -1.88342599e-02  -8.16473130e-03   0.00000000e+00  -1.17196490e-02]\n",
      " [  0.00000000e+00   1.75068722e+00   2.82522676e-02  -1.59765086e+00\n",
      "   -3.76685199e-01  -1.63294626e-01   0.00000000e+00  -2.34392980e-01]\n",
      " [  0.00000000e+00   6.55092708e+00   1.38691596e-02  -5.96901883e+00\n",
      "   -1.84916383e-01  -8.01620336e-02   0.00000000e+00  -2.32323173e-01]]\n"
     ]
    }
   ],
   "source": [
    "# problem 5\n",
    "eps = 1e-4\n",
    "var_list = np.array([k_bar, ell_bar, Y_bar, w_bar, r_bar, T_bar, c_bar, i_bar])\n",
    "par_der = np.empty([len(var_list), len(params)])\n",
    "for iP, param in enumerate(params):\n",
    "    params_new = params\n",
    "    lst = list(params_new)\n",
    "    lst[iP] *= (1 + eps)\n",
    "    params_new = tuple(lst)\n",
    "    XYbar_new = LinApp_FindSS(Modeldyn, params_new, guessXY, Zbar, nx, ny)\n",
    "    (k_bar_new, ell_bar_new) = XYbar_new\n",
    "    Y_bar_new, w_bar_new, r_bar_new, T_bar_new, c_bar_new, u_bar_new = Modeldefs(k_bar_new, k_bar_new, ell_bar_new, 0, params_new)\n",
    "    i_bar_new = delta*k_bar_new\n",
    "    var_list_new = np.array([k_bar_new, ell_bar_new, Y_bar_new, w_bar_new, r_bar_new, T_bar_new, c_bar_new, i_bar_new])\n",
    "    par_der[:, iP] = (np.array(var_list_new) - np.array(var_list))/(eps*param)\n",
    "    \n",
    "print(par_der)\n",
    "\n",
    "\n",
    "\n"
   ]
  },
  {
   "cell_type": "code",
   "execution_count": 23,
   "metadata": {
    "collapsed": false
   },
   "outputs": [
    {
     "name": "stdout",
     "output_type": "stream",
     "text": [
      "FF:  [[  0.           0.        ]\n",
      " [-12.27260743   2.16849645]]\n",
      "GG:  [[ 12.27260744  -4.70601255]\n",
      " [ 24.87671844  -2.23635645]]\n",
      "HH:  [[-12.13625099   0.        ]\n",
      " [-12.53625099   0.        ]]\n",
      "LL:  [[ 0.        ]\n",
      " [ 2.16849645]]\n",
      "MM:  [[-1.63635645]\n",
      " [-2.23635645]]\n",
      "Sylvester equation solver condition is not satisfied; proceed with the original method...\n",
      "PP: [[ 0.91529369  0.        ]\n",
      " [-0.19192699  0.        ]]\n",
      "QQ: [[ 0.12899709]\n",
      " [-0.01131016]]\n",
      "RR: []\n",
      "SS: []\n",
      "NN 0.9\n"
     ]
    },
    {
     "name": "stderr",
     "output_type": "stream",
     "text": [
      "C:\\Users\\Lenovo\\Anaconda3\\lib\\site-packages\\scipy\\linalg\\decomp.py:60: RuntimeWarning: divide by zero encountered in true_divide\n",
      "  w = (alphar + _I * alphai) / beta\n",
      "C:\\Users\\Lenovo\\Anaconda3\\lib\\site-packages\\scipy\\linalg\\decomp.py:60: RuntimeWarning: invalid value encountered in true_divide\n",
      "  w = (alphar + _I * alphai) / beta\n",
      "C:\\Users\\Lenovo\\Anaconda3\\lib\\site-packages\\scipy\\linalg\\decomp.py:39: RuntimeWarning: invalid value encountered in greater\n",
      "  m = (w.imag > 0)\n",
      "C:\\Users\\Lenovo\\Anaconda3\\lib\\site-packages\\scipy\\linalg\\decomp.py:40: RuntimeWarning: invalid value encountered in less\n",
      "  m[:-1] |= (w.imag[1:] < 0)  # workaround for LAPACK bug, cf. ticket #709\n"
     ]
    }
   ],
   "source": [
    "# find the derivatives matrices\n",
    "nx_new = 2\n",
    "ny_new = 0\n",
    "\n",
    "#theta0 = np.array([k_bar, k_bar, k_bar, ell_bar, ell_bar, Zbar, Zbar])\n",
    "\n",
    "\n",
    "def Modeldyn2(theta0, params):\n",
    "    '''\n",
    "    This function takes vectors of endogenous and exogenous state variables\n",
    "    along with a vector of 'jump' variables and returns values from the\n",
    "    characterizing Euler equations.\n",
    "    \n",
    "    Inputs are:\n",
    "        theta: a vector containng (Xpp, Xp, X, Yp, Y, Zp, Z) where:\n",
    "            Xpp: value of capital in two periods\n",
    "            Xp: value of capital in next period\n",
    "            X: value of capital this period\n",
    "            Yp: value of labor in next period\n",
    "            Y: value of labor this period\n",
    "            Zp: value of productivity in next period\n",
    "            Z: value of productivity this period\n",
    "        params: list of parameter values\n",
    "    \n",
    "    Output are:\n",
    "        Euler: a vector of Euler equations written so that they are zero at the\n",
    "            steady state values of X, Y & Z.  This is a 2x1 numpy array. \n",
    "    '''\n",
    "    \n",
    "    # unpack theat0\n",
    "    (Xpp, Yp, Xp, Y, X, Ym, Zp, Z) = theta0\n",
    "    #alpha, beta, gamma, delta, a, xi, rho, tau = params\n",
    "    \n",
    "    ell = Y\n",
    "    # find definitions for now and next period\n",
    "    Y, w, r, T, c, u = Modeldefs(Xp, X, Y, Z, params)\n",
    "    Yp, wp, rp, Tp, cp, up = Modeldefs(Xpp, Xp, Yp, Zp, params)\n",
    "    \n",
    "    # Evaluate Euler equations\n",
    "    \n",
    "    E1 = (c**(-gamma)*w*(1- tau))/(a*(1 - ell)**(-xi)) -1\n",
    "    E2 = (c**(-gamma))/(beta*cp**(-gamma)*(1 + (rp - delta)*(1 - tau))) - 1\n",
    "    \n",
    "    \n",
    "    return np.array([E1, E2])\n",
    "\n",
    "theta0_new = np.array([k_bar, ell_bar, k_bar, ell_bar, k_bar, ell_bar, 0., 0.])\n",
    "\n",
    "#theta0 = np.array([k_bar, k_bar, k_bar, ell_bar, ell_bar, Zbar, Zbar])\n",
    "[AA, BB, CC, DD, FF, GG, HH, JJ, KK, LL, MM, WW, TT] = \\\n",
    "    LinApp_Deriv(Modeldyn2, params, theta0_new, nx_new, ny_new, nz, logX = 1)\n",
    "print('FF: ', FF)\n",
    "print('GG: ', GG)\n",
    "print('HH: ', HH)\n",
    "print('LL: ', LL)\n",
    "print('MM: ', MM)\n",
    "\n",
    "# set value for NN    \n",
    "NN = rho\n",
    "    \n",
    "# find the policy and jump function coefficients\n",
    "PP, QQ, UU, RR, SS, VV = \\\n",
    "    LinApp_Solve(AA,BB,CC,DD,FF,GG,HH,JJ,KK,LL,MM,WW,TT,NN,Zbar,Sylv)\n",
    "print ('PP:',PP)\n",
    "print ('QQ:', QQ)\n",
    "print ('RR:',RR)\n",
    "print ('SS:', SS)\n",
    "print('NN', NN)"
   ]
  },
  {
   "cell_type": "code",
   "execution_count": 37,
   "metadata": {
    "collapsed": false
   },
   "outputs": [],
   "source": [
    "#problem 7\n",
    "# generating the artificial time series\n",
    "#some initialization\n",
    "sigma = 0.02\n",
    "num_sim = 10000\n",
    "period = 250\n",
    "init = (k_bar, ell_bar, Zbar)\n",
    "# The simulation function \n",
    "def sim(PP, QQ, NN, init, num, t, sigma):\n",
    "    '''\n",
    "    ---------------------------------------------------------------\n",
    "    Function to derive the simulation of variables of interest\n",
    "    ---------------------------------------------------------------\n",
    "    Input:\n",
    "    PP: The derivative of k_t+1 against k_t  \n",
    "    QQ: The derivative of k_t+1 agaisnt z_t\n",
    "    NN: The derivative of z_t+1 against z_t\n",
    "    RR: The derivative of l_t   against k_t\n",
    "    SS: The derivative of l_t   against z_t\n",
    "    init:The initial value of endogenous and \n",
    "    num:The number of simulations\n",
    "    t:  The number of periods in each simulation\n",
    "    sigma: the standard deviation of the productivity shock\n",
    "    \n",
    "    Output:\n",
    "    \n",
    "    '''\n",
    "    # unpacking initial variables\n",
    "    k_bar, ell_bar, Zbar = init\n",
    "    \n",
    "    # we firstly construct the epsilon matrix that goes into the shock matrix\n",
    "    eps_mat = np.random.normal(0, sigma, (t + 1, num))\n",
    "    \n",
    "    # we then construct the shock matrix z_mat\n",
    "    z_mat = np.empty((t + 1, num))\n",
    "    z_mat[0, :] = np.zeros((1, num))\n",
    "    for iZ in range(1, t + 1):\n",
    "        z_mat[iZ, :] = (1 - NN)*Zbar + NN*z_mat[iZ-1, :] + eps_mat[iZ, :]\n",
    "    \n",
    "    # we will then construct the capital matrix\n",
    "    k_mat = np.empty((t + 1 , num))\n",
    "    k_mat[0, :] = 0\n",
    "    for iK in range(1, t + 1):\n",
    "        k_mat[iK, :] = PP[0,0]*k_mat[iK-1, :] + QQ[0,0]*z_mat[iK, :]\n",
    "    l_mat = np.empty((t, num))\n",
    "    l_mat[0:, ] = 0\n",
    "    for iL in range(1, t):\n",
    "        l_mat[iL, :] = PP[1,0]*l_mat[iL-1, :] + QQ[1,0]*z_mat[iL, :]\n",
    "        \n",
    "    kp_mat = k_bar*np.exp(k_mat[1:,])\n",
    "    k_mat = k_bar*np.exp(k_mat[:-1,])\n",
    "    l_mat = ell_bar*np.exp(l_mat)\n",
    "    Y_mat = k_mat**alpha*(np.exp(z_mat[:-1,])*l_mat)**(1-alpha)\n",
    "    w_mat = (1-alpha)*Y_mat/l_mat\n",
    "    r_mat = alpha*Y_mat/k_mat\n",
    "    c_mat = (w_mat*l_mat + (r_mat - delta)*k_mat)  + k_mat - kp_mat\n",
    "    i_mat = kp_mat - (1 - delta)*k_mat\n",
    "    \n",
    "    return Y_mat, c_mat, i_mat, l_mat, k_mat, w_mat, r_mat\n",
    "Y, C, I, L, K, W, R = sim(PP, QQ, NN, init, num_sim, period, sigma)\n",
    "#plotting\n",
    "\n",
    "\n",
    "    \n",
    "    \n",
    "    \n",
    "    \n",
    "\n"
   ]
  },
  {
   "cell_type": "code",
   "execution_count": 36,
   "metadata": {
    "collapsed": false
   },
   "outputs": [
    {
     "data": {
      "text/plain": [
       "1.2845067662323033"
      ]
     },
     "execution_count": 36,
     "metadata": {},
     "output_type": "execute_result"
    }
   ],
   "source": []
  },
  {
   "cell_type": "code",
   "execution_count": 22,
   "metadata": {
    "collapsed": false
   },
   "outputs": [
    {
     "data": {
      "text/plain": [
       "(0.4, 0.98, 2.5, 0.1, 0.5, 1.5, 0.9, 0.05)"
      ]
     },
     "execution_count": 22,
     "metadata": {},
     "output_type": "execute_result"
    }
   ],
   "source": [
    "params"
   ]
  },
  {
   "cell_type": "code",
   "execution_count": null,
   "metadata": {
    "collapsed": false
   },
   "outputs": [],
   "source": []
  },
  {
   "cell_type": "code",
   "execution_count": 13,
   "metadata": {
    "collapsed": false
   },
   "outputs": [
    {
     "name": "stdout",
     "output_type": "stream",
     "text": [
      "Once deleted, variables cannot be recovered. Proceed (y/[n])? y\n"
     ]
    }
   ],
   "source": [
    "%reset"
   ]
  },
  {
   "cell_type": "code",
   "execution_count": null,
   "metadata": {
    "collapsed": true
   },
   "outputs": [],
   "source": []
  }
 ],
 "metadata": {
  "kernelspec": {
   "display_name": "Python 3",
   "language": "python",
   "name": "python3"
  },
  "language_info": {
   "codemirror_mode": {
    "name": "ipython",
    "version": 3
   },
   "file_extension": ".py",
   "mimetype": "text/x-python",
   "name": "python",
   "nbconvert_exporter": "python",
   "pygments_lexer": "ipython3",
   "version": "3.6.0"
  }
 },
 "nbformat": 4,
 "nbformat_minor": 2
}
