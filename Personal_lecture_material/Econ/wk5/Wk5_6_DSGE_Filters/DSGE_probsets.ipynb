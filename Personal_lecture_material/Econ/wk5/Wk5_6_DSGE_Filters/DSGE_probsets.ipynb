{
 "cells": [
  {
   "cell_type": "code",
   "execution_count": 1,
   "metadata": {
    "collapsed": true
   },
   "outputs": [],
   "source": [
    "import numpy as np"
   ]
  },
  {
   "cell_type": "code",
   "execution_count": 3,
   "metadata": {
    "collapsed": false
   },
   "outputs": [
    {
     "name": "stdout",
     "output_type": "stream",
     "text": [
      "0.00919466769781\n"
     ]
    }
   ],
   "source": [
    "#question 5\n",
    "# Solving algebrically\n",
    "gamma = 2.5\n",
    "beta = 0.98\n",
    "alpha = 0.40\n",
    "delta = 0.10\n",
    "z_bar = 0\n",
    "tau = 0.05\n",
    "k_bar_alg = (alpha**(1/(1 - alpha))*\n",
    "             (1/(1 - tau)*(1/beta - 1) + delta)**(1/alpha - 1)*\n",
    "            np.exp(z_bar))\n",
    "print(k_bar_alg)"
   ]
  },
  {
   "cell_type": "code",
   "execution_count": null,
   "metadata": {
    "collapsed": true
   },
   "outputs": [],
   "source": [
    "# Solving the problem numerically\n"
   ]
  }
 ],
 "metadata": {
  "kernelspec": {
   "display_name": "Python 3",
   "language": "python",
   "name": "python3"
  },
  "language_info": {
   "codemirror_mode": {
    "name": "ipython",
    "version": 3
   },
   "file_extension": ".py",
   "mimetype": "text/x-python",
   "name": "python",
   "nbconvert_exporter": "python",
   "pygments_lexer": "ipython3",
   "version": "3.6.0"
  }
 },
 "nbformat": 4,
 "nbformat_minor": 2
}
