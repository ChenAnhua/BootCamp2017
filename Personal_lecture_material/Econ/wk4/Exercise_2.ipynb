{
 "cells": [
  {
   "cell_type": "code",
   "execution_count": 1,
   "metadata": {
    "collapsed": true
   },
   "outputs": [],
   "source": [
    "import numpy as np\n",
    "import scipy.stats as sts\n",
    "import warnings\n",
    "#warnings.filterwarnings('ignore')"
   ]
  },
  {
   "cell_type": "code",
   "execution_count": 2,
   "metadata": {
    "collapsed": false
   },
   "outputs": [],
   "source": [
    "#readin datasets\n",
    "#columns: c, k, w, r\n",
    "df = np.loadtxt('data/MacroSeries.txt', delimiter=\",\")\n"
   ]
  },
  {
   "cell_type": "code",
   "execution_count": 3,
   "metadata": {
    "collapsed": false
   },
   "outputs": [],
   "source": [
    "'''\n",
    "--------------------------------------------------------------------------\n",
    "Question (a)\n",
    "--------------------------------------------------------------------------\n",
    "Steps:\n",
    "1. Design a function to return the pdf of a normal distribution\n",
    "2. Design a maximum likelihood\n",
    "3. Design a critierion function\n",
    "\n",
    "\n",
    "'''\n",
    "\n",
    "def ar_norm_dist(z_vec, rho, mu, sigma):\n",
    "    '''\n",
    "    --------------------------------------------------------------------------\n",
    "    Function to return the pdf of a normal distribution based on AR(1) process\n",
    "    --------------------------------------------------------------------------\n",
    "    Input: \n",
    "    z_vec : TPF shocks\n",
    "    rho:    AR coefficient\n",
    "    mu:     mean of TPF shocks\n",
    "    sigma:  std of TPF shocks\n",
    "\n",
    "    Target output:\n",
    "    pdf_vals\n",
    "\n",
    "\n",
    "\n",
    "\n",
    "    '''\n",
    "    mean_vec = rho*z_vec[:-1] + (1 - rho)*mu \n",
    "    mean_vec = np.append(mu, mean_vec)                # create the vector of means of normal distribution\n",
    "    pdf_vals    = ((1/(sigma * np.sqrt(2 * np.pi)) *\n",
    "                    np.exp( - (z_vec - mean_vec)**2 / (2 * sigma**2))))\n",
    "    \n",
    "    return pdf_vals\n"
   ]
  },
  {
   "cell_type": "code",
   "execution_count": 4,
   "metadata": {
    "collapsed": true
   },
   "outputs": [],
   "source": [
    "def log_likelihood(w_vec, k_vec, alpha, rho, mu, sigma):\n",
    "    '''\n",
    "    -------------------------------------------------------------------------\n",
    "    Function to return the loglikelihood of question based on w and k \n",
    "    -------------------------------------------------------------------------\n",
    "    Input:\n",
    "    w_vec:          wage per unit of labor\n",
    "    k_vec:          saving\n",
    "    alpha:          \n",
    "    rho:\n",
    "    mu:\n",
    "    sigma: \n",
    "    \n",
    "    '''\n",
    "    # we need to back out the z series\n",
    "    z_vec = np.log(w_vec) - alpha*np.log(k_vec) - np.log(1 - alpha)\n",
    "    pdf_vals = ar_norm_dist(z_vec, rho, mu, sigma)\n",
    "    ln_pdf_vals = np.log(pdf_vals)\n",
    "    log_lik_val = ln_pdf_vals.sum()\n",
    "    return log_lik_val\n",
    "\n",
    "def log_likelihood2(r_vec, k_vec, alpha, rho, mu, sigma):\n",
    "    '''\n",
    "    -------------------------------------------------------------------------\n",
    "    Function to return the loglikelihood of question based on r and k \n",
    "    -------------------------------------------------------------------------\n",
    "    Input:\n",
    "    r_vec:          interest rate\n",
    "    k_vec:          saving\n",
    "    alpha:          \n",
    "    rho:\n",
    "    mu:\n",
    "    sigma: \n",
    "    \n",
    "    '''\n",
    "    # we need to back out the z series\n",
    "    z_vec = np.log(r_vec) +(1 - alpha)*np.log(k_vec) - np.log(alpha)\n",
    "    pdf_vals = ar_norm_dist(z_vec, rho, mu, sigma)\n",
    "    ln_pdf_vals = np.log(pdf_vals)\n",
    "    log_lik_val = ln_pdf_vals.sum()\n",
    "    return log_lik_val\n",
    "\n",
    "def crit(params, *args):\n",
    "    '''\n",
    "    -------------------------------------------------------------------------\n",
    "    Function to derive MLE estimation of parameters of loglikelihood function\n",
    "    -------------------------------------------------------------------------\n",
    "    Inputs:\n",
    "    \n",
    "    Outputs:\n",
    "    \n",
    "    '''\n",
    "    alpha, rho, mu, sigma = params\n",
    "    w_r_vec, k_vec, indicator = args\n",
    "    if indicator == 1:\n",
    "        log_lik_val = log_likelihood(w_r_vec, k_vec, alpha, rho, mu, sigma)\n",
    "    elif indicator ==2:\n",
    "        log_lik_val = log_likelihood2(w_r_vec, k_vec, alpha, rho, mu, sigma)\n",
    "    \n",
    "    neg_log_lik_val = -log_lik_val\n",
    "    \n",
    "    return neg_log_lik_val"
   ]
  },
  {
   "cell_type": "code",
   "execution_count": 5,
   "metadata": {
    "collapsed": false
   },
   "outputs": [
    {
     "name": "stderr",
     "output_type": "stream",
     "text": [
      "C:\\Users\\Lenovo\\Anaconda3\\lib\\site-packages\\ipykernel\\__main__.py:18: RuntimeWarning: divide by zero encountered in log\n",
      "C:\\Users\\Lenovo\\Anaconda3\\lib\\site-packages\\scipy\\optimize\\optimize.py:628: RuntimeWarning: invalid value encountered in double_scalars\n",
      "  grad[k] = (f(*((xk + d,) + args)) - f0) / d[k]\n"
     ]
    },
    {
     "name": "stdout",
     "output_type": "stream",
     "text": [
      "Results for question (a):\n",
      "      fun: -96.706908090043953\n",
      " hess_inv: <4x4 LbfgsInvHessProduct with dtype=float64>\n",
      "      jac: array([ 0.00726885,  0.00053859,  0.00042917, -0.00304681])\n",
      "  message: b'CONVERGENCE: REL_REDUCTION_OF_F_<=_FACTR*EPSMCH'\n",
      "     nfev: 300\n",
      "      nit: 34\n",
      "   status: 0\n",
      "  success: True\n",
      "        x: array([ 0.45756255,  0.72045842,  9.52207362,  0.0919961 ])\n",
      "0.888881111111 0.55555 1e-05 11.1111155556\n"
     ]
    },
    {
     "name": "stderr",
     "output_type": "stream",
     "text": [
      "C:\\Users\\Lenovo\\Anaconda3\\lib\\site-packages\\ipykernel\\__main__.py:39: RuntimeWarning: divide by zero encountered in log\n"
     ]
    },
    {
     "name": "stdout",
     "output_type": "stream",
     "text": [
      "Results for question (b):\n",
      "      fun: -96.706908090043953\n",
      " hess_inv: <4x4 LbfgsInvHessProduct with dtype=float64>\n",
      "      jac: array([ 0.00726885,  0.00053859,  0.00042917, -0.00304681])\n",
      "  message: b'CONVERGENCE: REL_REDUCTION_OF_F_<=_FACTR*EPSMCH'\n",
      "     nfev: 300\n",
      "      nit: 34\n",
      "   status: 0\n",
      "  success: True\n",
      "        x: array([ 0.45756255,  0.72045842,  9.52207362,  0.0919961 ])\n",
      "0.222227777778 0.77777 20.0 11.1111155556\n"
     ]
    }
   ],
   "source": [
    "# MLE estimation\n",
    "import scipy.optimize as opt\n",
    "\n",
    "# Instead of checking one set of initial parameters, we will test a whole sets of them and returned the one with the biggest value\n",
    "alpha_vec = np.linspace(1e-5, (1 - 1e-5), 10)\n",
    "rho_vec = np.linspace((1e-5 - 1), (1 - 1e-5), 10)\n",
    "mu_vec = np.linspace(1e-5, 20, 10)\n",
    "sigma_vec = np.linspace(1e-5, 20, 10)\n",
    "mle_args = (df[:, 2], df[:, 1], 1)\n",
    "mle2_args = (df[:, 3], df[:, 1], 2)\n",
    "bnds = ((1e-5, 1-(1e-5)), ((1e-5)-1, 1-(1e-5)), (1e-5, None), (1e-5, None))\n",
    "mle_fun = 1e10\n",
    "mle_params = None\n",
    "mle_results = None\n",
    "\n",
    "def init_finder(alpha_vec, rho_vec, mu_vec, sigma_vec, mle_args, bnds, mle_fun, mle_params, mle_results):\n",
    "    mle_fun = mle_fun\n",
    "    mle_params = mle_params\n",
    "    mle_results = mle_results\n",
    "    for alpha_init in alpha_vec:\n",
    "        for rho_init in rho_vec:\n",
    "            for mu_init in mu_vec:\n",
    "                for sigma_init in sigma_vec:\n",
    "                    params_init = (alpha_init, rho_init, mu_init, sigma_init)\n",
    "                    results = opt.minimize(crit, params_init, args=(mle_args), method='L-BFGS-B',\n",
    "                           bounds= bnds)\n",
    "                    if results.fun < mle_fun:\n",
    "                        mle_results = results\n",
    "                        mle_fun = results.fun\n",
    "                        mle_params = results.x\n",
    "                        alpha0  = alpha_init\n",
    "                        rho0 = rho_init\n",
    "                        mu0 = mu_init\n",
    "                        sigma0 = sigma_init\n",
    "    return mle_results, alpha0, rho0, mu0, sigma0\n",
    "\n",
    "final_results, alpha0, rho0, mu0, sigma0 = init_finder(alpha_vec, rho_vec, mu_vec, sigma_vec, mle_args, bnds, mle_fun, mle_params, mle_results)\n",
    "print(\"Results for question (a):\")\n",
    "print(final_results)\n",
    "print(alpha0, rho0, mu0, sigma0)\n",
    "final_results2, alpha0_2, rho0_2, mu0_2, sigma0_2 = init_finder(alpha_vec, rho_vec, mu_vec, sigma_vec, mle2_args, bnds, mle_fun, mle_params, mle_results)\n",
    "print(\"Results for question (b):\")\n",
    "print(final_results)\n",
    "print(alpha0_2, rho0_2, mu0_2, sigma0_2)"
   ]
  },
  {
   "cell_type": "code",
   "execution_count": 7,
   "metadata": {
    "collapsed": false
   },
   "outputs": [
    {
     "name": "stdout",
     "output_type": "stream",
     "text": [
      "The probability that the interest rate this period will be greater than 1 is :  0.999999968199\n"
     ]
    }
   ],
   "source": [
    "#problem 3\n",
    "# we firstly calculated the z* when r = 1 based on equation (4)\n",
    "\n",
    "r = 1\n",
    "k = 7500000\n",
    "alpha, rho, mu, sigma = final_results.x\n",
    "z_star = np.log(r) + (1 - alpha)*np.log(k) - np.log(alpha)\n",
    "mean = rho*10 + (1 - rho)*mu\n",
    "prob = 1 - sts.norm.cdf(z_star, mean, sigma)\n",
    "print(\"The probability that the interest rate this period will be greater than 1 is : \", prob)\n"
   ]
  },
  {
   "cell_type": "code",
   "execution_count": null,
   "metadata": {
    "collapsed": false
   },
   "outputs": [],
   "source": []
  },
  {
   "cell_type": "code",
   "execution_count": null,
   "metadata": {
    "collapsed": false
   },
   "outputs": [],
   "source": []
  },
  {
   "cell_type": "code",
   "execution_count": 50,
   "metadata": {
    "collapsed": false
   },
   "outputs": [
    {
     "name": "stdout",
     "output_type": "stream",
     "text": [
      "Once deleted, variables cannot be recovered. Proceed (y/[n])? y\n"
     ]
    }
   ],
   "source": [
    "%reset"
   ]
  },
  {
   "cell_type": "code",
   "execution_count": null,
   "metadata": {
    "collapsed": true
   },
   "outputs": [],
   "source": []
  }
 ],
 "metadata": {
  "kernelspec": {
   "display_name": "Python 3",
   "language": "python",
   "name": "python3"
  },
  "language_info": {
   "codemirror_mode": {
    "name": "ipython",
    "version": 3
   },
   "file_extension": ".py",
   "mimetype": "text/x-python",
   "name": "python",
   "nbconvert_exporter": "python",
   "pygments_lexer": "ipython3",
   "version": "3.6.0"
  }
 },
 "nbformat": 4,
 "nbformat_minor": 2
}
