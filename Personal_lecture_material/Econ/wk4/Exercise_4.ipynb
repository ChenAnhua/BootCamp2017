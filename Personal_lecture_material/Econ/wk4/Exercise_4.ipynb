{
 "cells": [
  {
   "cell_type": "code",
   "execution_count": 12,
   "metadata": {
    "collapsed": true
   },
   "outputs": [],
   "source": [
    "# Import packages and load the data\n",
    "import numpy as np\n",
    "import numpy.linalg as lin\n",
    "import scipy.stats as sts\n",
    "import scipy.integrate as intgr\n",
    "import scipy.optimize as opt\n",
    "#import matplotlib\n",
    "#import matplotlib.pyplot as plt\n",
    "#from mpl_toolkits.mplot3d import Axes3D\n",
    "#from matplotlib import cm\n",
    "#cmap1 = matplotlib.cm.get_cmap('summer')\n",
    "# This next command is specifically for Jupyter Notebook\n",
    "#%matplotlib notebook\n",
    "\n",
    "df = np.loadtxt('data/MacroSeries.txt', delimiter = \",\")  #columns: c, k, w, r"
   ]
  },
  {
   "cell_type": "code",
   "execution_count": 13,
   "metadata": {
    "collapsed": false
   },
   "outputs": [],
   "source": [
    "'''\n",
    "---------------------------------------------------------------------\n",
    "We fisrtly need to specifiy the data_moments\n",
    "However, in the case of this homework, the data_moments are all zeros\n",
    "---------------------------------------------------------------------\n",
    "\n",
    "'''\n",
    "moms_data = np.array([[1e-30], [1e-30], [1e-30], [1e-30]])"
   ]
  },
  {
   "cell_type": "code",
   "execution_count": 14,
   "metadata": {
    "collapsed": true
   },
   "outputs": [],
   "source": [
    "'''\n",
    "---------------------------------------------------------------------\n",
    "We then need to write a function to derive the model moments\n",
    "---------------------------------------------------------------------\n",
    "\n",
    "'''\n",
    "def model_moments(c_vec, k_vec, w_vec, r_vec, alpha, beta, rho, mu):\n",
    "    '''\n",
    "    ---------------------------------------------\n",
    "    Function to derive model moments\n",
    "    ---------------------------------------------\n",
    "    We will firstly use equation (4) to derive the series z\n",
    "    Then we will derive the four model moments\n",
    "    \n",
    "    '''\n",
    "    z_vec = np.log(r_vec) +(1 - alpha)*np.log(k_vec) - np.log(alpha)\n",
    "    model_mom1 = (z_vec - rho*np.append(mu, z_vec[:-1]) - (1 - rho)*mu).mean()\n",
    "    model_mom2 = ((z_vec - rho*np.append(mu, z_vec[:-1]) - (1 - rho)*mu)*np.append(mu, z_vec[:-1])).mean()\n",
    "    model_mom3 = ((beta*alpha*np.exp(z_vec[1:])*(k_vec[1:]**(alpha - 1))*c_vec[:-1]/c_vec[1:]) - 1).mean()\n",
    "    model_mom4 = (((beta*alpha*np.exp(z_vec[1:])*(k_vec[1:]**(alpha - 1))*c_vec[:-1]/c_vec[1:]) - 1)*w_vec[:-1]).mean()\n",
    "    \n",
    "    return model_mom1, model_mom2, model_mom3, model_mom4\n"
   ]
  },
  {
   "cell_type": "code",
   "execution_count": 15,
   "metadata": {
    "collapsed": false
   },
   "outputs": [],
   "source": [
    "def err_vec(c_vec, k_vec, w_vec, r_vec, alpha, beta, rho, mu, moms_data, simple = False):\n",
    "    '''\n",
    "    ---------------------------------------------------\n",
    "    Function to return the error vector\n",
    "    ---------------------------------------------------\n",
    "    \n",
    "    '''\n",
    "    model_mom1, model_mom2, model_mom3, model_mom4 = model_moments(c_vec, k_vec, w_vec, r_vec, alpha, beta, rho, mu)\n",
    "    moms_model = np.array([[model_mom1], [model_mom2], [model_mom3], [model_mom4]])\n",
    "    if simple:\n",
    "        err_vec = moms_model - moms_data\n",
    "    else:\n",
    "        err_vec = (moms_model - moms_data)/moms_model\n",
    "    \n",
    "    return err_vec\n",
    "\n",
    "    "
   ]
  },
  {
   "cell_type": "code",
   "execution_count": 16,
   "metadata": {
    "collapsed": false
   },
   "outputs": [],
   "source": [
    "def crit(params, *args):\n",
    "    alpha, beta, rho, mu = params\n",
    "    c_vec, k_vec, w_vec, r_vec, moms_data, W, simple = args\n",
    "    err = err_vec(c_vec, k_vec, w_vec, r_vec, alpha, beta, rho, mu, moms_data, simple)\n",
    "    crit_val = np.dot(np.dot(err.T, W), err)\n",
    "    \n",
    "    return crit_val\n"
   ]
  },
  {
   "cell_type": "code",
   "execution_count": 18,
   "metadata": {
    "collapsed": false
   },
   "outputs": [
    {
     "data": {
      "text/plain": [
       "      fun: array([[ 0.00276665]])\n",
       " hess_inv: <4x4 LbfgsInvHessProduct with dtype=float64>\n",
       "      jac: array([  3.78590904e-02,   1.26107131e+02,   2.72455669e-06,\n",
       "        -1.06756405e-03])\n",
       "  message: b'CONVERGENCE: REL_REDUCTION_OF_F_<=_FACTR*EPSMCH'\n",
       "     nfev: 235\n",
       "      nit: 28\n",
       "   status: 0\n",
       "  success: True\n",
       "        x: array([ 0.45045377,  0.99      ,  0.50539438,  9.49692001])"
      ]
     },
     "execution_count": 18,
     "metadata": {},
     "output_type": "execute_result"
    }
   ],
   "source": [
    "#testing\n",
    "alpha_init = 0.5\n",
    "beta_init = 0.5\n",
    "rho_init = 0.5\n",
    "mu_init = 9.5\n",
    "bnds = ((1e-5, 1-(1e-5)), (1e-5, 1-(1e-5)), ((1e-5)-1, 1-(1e-5)), (1e-5, None))\n",
    "params_init = (alpha_init, beta_init, rho_init, mu_init)\n",
    "gmm_args = (df[:, 0], df[:, 1], df[:, 2], df[:, 3], moms_data, np.eye(4), True)\n",
    "results = opt.minimize(crit, params_init, args=(gmm_args),\n",
    "                       method='L-BFGS-B', bounds=bnds)\n",
    "results"
   ]
  },
  {
   "cell_type": "markdown",
   "metadata": {},
   "source": [
    "After trying some different initials, I find that only the estimation of beta is robust to different initial guesses...."
   ]
  },
  {
   "cell_type": "code",
   "execution_count": null,
   "metadata": {
    "collapsed": false
   },
   "outputs": [],
   "source": []
  },
  {
   "cell_type": "code",
   "execution_count": null,
   "metadata": {
    "collapsed": false
   },
   "outputs": [],
   "source": []
  },
  {
   "cell_type": "code",
   "execution_count": null,
   "metadata": {
    "collapsed": true
   },
   "outputs": [],
   "source": []
  }
 ],
 "metadata": {
  "kernelspec": {
   "display_name": "Python 3",
   "language": "python",
   "name": "python3"
  },
  "language_info": {
   "codemirror_mode": {
    "name": "ipython",
    "version": 3
   },
   "file_extension": ".py",
   "mimetype": "text/x-python",
   "name": "python",
   "nbconvert_exporter": "python",
   "pygments_lexer": "ipython3",
   "version": "3.6.0"
  }
 },
 "nbformat": 4,
 "nbformat_minor": 2
}
